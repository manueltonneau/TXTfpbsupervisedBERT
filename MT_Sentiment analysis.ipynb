{
 "cells": [
  {
   "cell_type": "markdown",
   "metadata": {},
   "source": [
    "# Utils"
   ]
  },
  {
   "cell_type": "code",
   "execution_count": 2,
   "metadata": {},
   "outputs": [
    {
     "name": "stderr",
     "output_type": "stream",
     "text": [
      "/anaconda3/lib/python3.7/site-packages/sklearn/externals/six.py:31: DeprecationWarning: The module is deprecated in version 0.21 and will be removed in version 0.23 since we've dropped support for Python 2.7. Please rely on the official version of six (https://pypi.org/project/six/).\n",
      "  \"(https://pypi.org/project/six/).\", DeprecationWarning)\n",
      "/anaconda3/lib/python3.7/site-packages/sklearn/externals/joblib/__init__.py:15: DeprecationWarning: sklearn.externals.joblib is deprecated in 0.21 and will be removed in 0.23. Please import this functionality directly from joblib, which can be installed with: pip install joblib. If this warning is raised when loading pickled models, you may need to re-serialize those models with scikit-learn 0.21+.\n",
      "  warnings.warn(msg, category=DeprecationWarning)\n",
      "/anaconda3/lib/python3.7/site-packages/sklearn/cross_validation.py:41: DeprecationWarning: This module was deprecated in version 0.18 in favor of the model_selection module into which all the refactored classes and functions are moved. Also note that the interface of the new CV iterators are different from that of this module. This module will be removed in 0.20.\n",
      "  \"This module will be removed in 0.20.\", DeprecationWarning)\n",
      "/anaconda3/lib/python3.7/site-packages/sklearn/grid_search.py:42: DeprecationWarning: This module was deprecated in version 0.18 in favor of the model_selection module into which all the refactored classes and functions are moved. This module will be removed in 0.20.\n",
      "  DeprecationWarning)\n"
     ]
    }
   ],
   "source": [
    "import pandas as pd\n",
    "import sklearn\n",
    "from sklearn.model_selection import train_test_split\n",
    "import operator\n",
    "from functools import reduce #python 3\n",
    "from imblearn.under_sampling import RandomUnderSampler\n",
    "from imblearn.over_sampling import RandomOverSampler\n",
    "import re\n",
    "from sklearn.cross_validation import StratifiedKFold\n",
    "import os      # change folder\n",
    "import pickle\n",
    "\n",
    "import pandas as pd\n",
    "import numpy as np\n",
    "\n",
    "import sklearn\n",
    "from sklearn.pipeline import Pipeline \n",
    "from sklearn.feature_extraction.text import CountVectorizer\n",
    "from sklearn.feature_extraction.text import TfidfTransformer\n",
    "\n",
    "from sklearn.cross_validation import StratifiedKFold\n",
    "from sklearn.cross_validation import cross_val_score\n",
    "\n",
    "# svm\n",
    "from sklearn.linear_model import SGDClassifier\n",
    "\n",
    "# grid search\n",
    "from sklearn.grid_search import GridSearchCV\n",
    "from pprint import pprint\n",
    "from time import time\n",
    "import pandas as pd\n",
    "\n",
    "import re\n",
    "from bs4 import BeautifulSoup\n",
    "\n",
    "import matplotlib.pyplot as plt\n",
    "from mlxtend.evaluate import confusion_matrix\n",
    "from mlxtend.plotting import plot_confusion_matrix\n",
    "\n",
    "from sklearn.metrics import accuracy_score\n",
    "from sklearn.metrics import precision_recall_fscore_support\n",
    "\n",
    "from gensim.models import Word2Vec    \n",
    "from gensim.models import word2vec\n",
    "from gensim.models import Word2Vec\n",
    "from gensim.scripts.glove2word2vec import glove2word2vec\n",
    "from gensim.models.keyedvectors import KeyedVectors\n",
    "\n",
    "from tqdm import tqdm\n",
    "tqdm.pandas(desc=\"progress-bar\")\n",
    "from gensim.models import Doc2Vec\n",
    "from gensim.models import doc2vec\n",
    "\n",
    "from sklearn import utils\n",
    "import gensim\n",
    "from gensim.models.doc2vec import TaggedDocument\n",
    "import re\n",
    "from ast import literal_eval\n",
    "from sklearn.linear_model import LinearRegression\n",
    "from sklearn.naive_bayes import MultinomialNB\n",
    "from sklearn.metrics import precision_score, recall_score\n"
   ]
  },
  {
   "cell_type": "code",
   "execution_count": 25,
   "metadata": {},
   "outputs": [],
   "source": [
    "def convert_pred_baseline(x):\n",
    "    if x == -1:\n",
    "        return \"label_negative\"\n",
    "    elif x == 0:\n",
    "        return \"label_neutral\"\n",
    "    elif x == 1:\n",
    "        return \"label_positive\""
   ]
  },
  {
   "cell_type": "code",
   "execution_count": 28,
   "metadata": {},
   "outputs": [],
   "source": [
    "def convert_label(x):\n",
    "    if x == \"negative\":\n",
    "        return \"label_negative\"\n",
    "    elif x == \"neutral\":\n",
    "        return \"label_neutral\"\n",
    "    elif x ==\"positive\": #row 521 and 554\n",
    "        return \"label_positive\"\n"
   ]
  },
  {
   "cell_type": "markdown",
   "metadata": {},
   "source": [
    "# Preprocessing"
   ]
  },
  {
   "cell_type": "code",
   "execution_count": 3,
   "metadata": {},
   "outputs": [],
   "source": [
    "path = \"/Users/manueltonneau/Documents/Humboldt/Second semester/Master thesis/data/labeled data/FinancialPhraseBank-v1.0/\"\n",
    "\n",
    "\n",
    "file_all = open(path+\"Sentences_AllAgree.txt\", \"r\",encoding=\"ISO-8859-1\")\n",
    "file_75 = open(path+\"Sentences_75Agree.txt\", \"r\",encoding=\"ISO-8859-1\")\n",
    "file_66 = open(path+\"Sentences_66Agree.txt\", \"r\",encoding=\"ISO-8859-1\")\n",
    "file_50 = open(path+\"Sentences_50Agree.txt\", \"r\",encoding=\"ISO-8859-1\")\n",
    "doclist_all = [ line for line in file_all ]\n",
    "doclist_75 = [ line for line in file_75 ]\n",
    "doclist_66 = [ line for line in file_66 ]\n",
    "doclist_50 = [ line for line in file_50 ]\n"
   ]
  },
  {
   "cell_type": "code",
   "execution_count": 4,
   "metadata": {},
   "outputs": [
    {
     "data": {
      "text/plain": [
       "'According to Gran , the company has no plans to move all production to Russia , although that is where the company is growing .@neutral\\n'"
      ]
     },
     "execution_count": 4,
     "metadata": {},
     "output_type": "execute_result"
    }
   ],
   "source": [
    "doclist_all[0]"
   ]
  },
  {
   "cell_type": "code",
   "execution_count": 5,
   "metadata": {},
   "outputs": [
    {
     "data": {
      "text/plain": [
       "'According to Gran , the company has no plans to move all production to Russia , although that is where the company is growing .@neutral\\n'"
      ]
     },
     "execution_count": 5,
     "metadata": {},
     "output_type": "execute_result"
    }
   ],
   "source": [
    "doclist_75[0]"
   ]
  },
  {
   "cell_type": "code",
   "execution_count": 6,
   "metadata": {},
   "outputs": [
    {
     "data": {
      "text/plain": [
       "(2264, 1)"
      ]
     },
     "execution_count": 6,
     "metadata": {},
     "output_type": "execute_result"
    }
   ],
   "source": [
    "df_all = pd.DataFrame(data=doclist_all)\n",
    "df_all.columns = [\"sentence\"]\n",
    "df_all.shape"
   ]
  },
  {
   "cell_type": "code",
   "execution_count": 7,
   "metadata": {},
   "outputs": [
    {
     "data": {
      "text/plain": [
       "(3453, 1)"
      ]
     },
     "execution_count": 7,
     "metadata": {},
     "output_type": "execute_result"
    }
   ],
   "source": [
    "df_75 = pd.DataFrame(data=doclist_75)\n",
    "df_75.columns = [\"sentence\"]\n",
    "df_75.shape"
   ]
  },
  {
   "cell_type": "code",
   "execution_count": 8,
   "metadata": {},
   "outputs": [
    {
     "data": {
      "text/plain": [
       "(4217, 1)"
      ]
     },
     "execution_count": 8,
     "metadata": {},
     "output_type": "execute_result"
    }
   ],
   "source": [
    "df_66 = pd.DataFrame(data=doclist_66)\n",
    "df_66.columns = [\"sentence\"]\n",
    "df_66.shape"
   ]
  },
  {
   "cell_type": "code",
   "execution_count": 9,
   "metadata": {},
   "outputs": [
    {
     "data": {
      "text/plain": [
       "(4846, 1)"
      ]
     },
     "execution_count": 9,
     "metadata": {},
     "output_type": "execute_result"
    }
   ],
   "source": [
    "df_50 = pd.DataFrame(data=doclist_50)\n",
    "df_50.columns = [\"sentence\"]\n",
    "df_50.shape"
   ]
  },
  {
   "cell_type": "code",
   "execution_count": 10,
   "metadata": {},
   "outputs": [
    {
     "data": {
      "text/plain": [
       "(2264, 1)"
      ]
     },
     "execution_count": 10,
     "metadata": {},
     "output_type": "execute_result"
    }
   ],
   "source": [
    "df_all.shape"
   ]
  },
  {
   "cell_type": "code",
   "execution_count": 11,
   "metadata": {},
   "outputs": [
    {
     "data": {
      "text/plain": [
       "(3453, 1)"
      ]
     },
     "execution_count": 11,
     "metadata": {},
     "output_type": "execute_result"
    }
   ],
   "source": [
    "df_75.shape"
   ]
  },
  {
   "cell_type": "code",
   "execution_count": 12,
   "metadata": {},
   "outputs": [
    {
     "data": {
      "text/plain": [
       "(4217, 1)"
      ]
     },
     "execution_count": 12,
     "metadata": {},
     "output_type": "execute_result"
    }
   ],
   "source": [
    "df_66.shape"
   ]
  },
  {
   "cell_type": "code",
   "execution_count": 13,
   "metadata": {},
   "outputs": [
    {
     "data": {
      "text/html": [
       "<div>\n",
       "<style scoped>\n",
       "    .dataframe tbody tr th:only-of-type {\n",
       "        vertical-align: middle;\n",
       "    }\n",
       "\n",
       "    .dataframe tbody tr th {\n",
       "        vertical-align: top;\n",
       "    }\n",
       "\n",
       "    .dataframe thead th {\n",
       "        text-align: right;\n",
       "    }\n",
       "</style>\n",
       "<table border=\"1\" class=\"dataframe\">\n",
       "  <thead>\n",
       "    <tr style=\"text-align: right;\">\n",
       "      <th></th>\n",
       "      <th>sentence</th>\n",
       "    </tr>\n",
       "  </thead>\n",
       "  <tbody>\n",
       "    <tr>\n",
       "      <th>0</th>\n",
       "      <td>According to Gran , the company has no plans t...</td>\n",
       "    </tr>\n",
       "    <tr>\n",
       "      <th>1</th>\n",
       "      <td>Technopolis plans to develop in stages an area...</td>\n",
       "    </tr>\n",
       "    <tr>\n",
       "      <th>2</th>\n",
       "      <td>With the new production plant the company woul...</td>\n",
       "    </tr>\n",
       "    <tr>\n",
       "      <th>3</th>\n",
       "      <td>According to the company 's updated strategy f...</td>\n",
       "    </tr>\n",
       "    <tr>\n",
       "      <th>4</th>\n",
       "      <td>For the last quarter of 2010 , Componenta 's n...</td>\n",
       "    </tr>\n",
       "  </tbody>\n",
       "</table>\n",
       "</div>"
      ],
      "text/plain": [
       "                                            sentence\n",
       "0  According to Gran , the company has no plans t...\n",
       "1  Technopolis plans to develop in stages an area...\n",
       "2  With the new production plant the company woul...\n",
       "3  According to the company 's updated strategy f...\n",
       "4  For the last quarter of 2010 , Componenta 's n..."
      ]
     },
     "execution_count": 13,
     "metadata": {},
     "output_type": "execute_result"
    }
   ],
   "source": [
    "#df = pd.concat([df_all,df_75,df_66])\n",
    "#we use the sentences on which at least 66% of experts agree\n",
    "df = df_66\n",
    "df.head()"
   ]
  },
  {
   "cell_type": "code",
   "execution_count": 14,
   "metadata": {},
   "outputs": [
    {
     "data": {
      "text/html": [
       "<div>\n",
       "<style scoped>\n",
       "    .dataframe tbody tr th:only-of-type {\n",
       "        vertical-align: middle;\n",
       "    }\n",
       "\n",
       "    .dataframe tbody tr th {\n",
       "        vertical-align: top;\n",
       "    }\n",
       "\n",
       "    .dataframe thead th {\n",
       "        text-align: right;\n",
       "    }\n",
       "</style>\n",
       "<table border=\"1\" class=\"dataframe\">\n",
       "  <thead>\n",
       "    <tr style=\"text-align: right;\">\n",
       "      <th></th>\n",
       "      <th>sentence</th>\n",
       "    </tr>\n",
       "  </thead>\n",
       "  <tbody>\n",
       "    <tr>\n",
       "      <th>0</th>\n",
       "      <td>According to Gran , the company has no plans t...</td>\n",
       "    </tr>\n",
       "    <tr>\n",
       "      <th>1</th>\n",
       "      <td>Technopolis plans to develop in stages an area...</td>\n",
       "    </tr>\n",
       "    <tr>\n",
       "      <th>2</th>\n",
       "      <td>With the new production plant the company woul...</td>\n",
       "    </tr>\n",
       "    <tr>\n",
       "      <th>3</th>\n",
       "      <td>According to the company 's updated strategy f...</td>\n",
       "    </tr>\n",
       "    <tr>\n",
       "      <th>4</th>\n",
       "      <td>For the last quarter of 2010 , Componenta 's n...</td>\n",
       "    </tr>\n",
       "  </tbody>\n",
       "</table>\n",
       "</div>"
      ],
      "text/plain": [
       "                                            sentence\n",
       "0  According to Gran , the company has no plans t...\n",
       "1  Technopolis plans to develop in stages an area...\n",
       "2  With the new production plant the company woul...\n",
       "3  According to the company 's updated strategy f...\n",
       "4  For the last quarter of 2010 , Componenta 's n..."
      ]
     },
     "execution_count": 14,
     "metadata": {},
     "output_type": "execute_result"
    }
   ],
   "source": [
    "df = df.reset_index(drop=True)\n",
    "df.head()"
   ]
  },
  {
   "cell_type": "code",
   "execution_count": 15,
   "metadata": {},
   "outputs": [],
   "source": [
    "def extract_label(x):\n",
    "    result = re.search('.@(.*)\\n', x)\n",
    "    return result.group(1)\n",
    "def clean(x):\n",
    "    return x.split('.@')[0]"
   ]
  },
  {
   "cell_type": "code",
   "execution_count": 16,
   "metadata": {},
   "outputs": [
    {
     "data": {
      "text/html": [
       "<div>\n",
       "<style scoped>\n",
       "    .dataframe tbody tr th:only-of-type {\n",
       "        vertical-align: middle;\n",
       "    }\n",
       "\n",
       "    .dataframe tbody tr th {\n",
       "        vertical-align: top;\n",
       "    }\n",
       "\n",
       "    .dataframe thead th {\n",
       "        text-align: right;\n",
       "    }\n",
       "</style>\n",
       "<table border=\"1\" class=\"dataframe\">\n",
       "  <thead>\n",
       "    <tr style=\"text-align: right;\">\n",
       "      <th></th>\n",
       "      <th>sentence</th>\n",
       "      <th>label</th>\n",
       "    </tr>\n",
       "  </thead>\n",
       "  <tbody>\n",
       "    <tr>\n",
       "      <th>0</th>\n",
       "      <td>According to Gran , the company has no plans t...</td>\n",
       "      <td>neutral</td>\n",
       "    </tr>\n",
       "    <tr>\n",
       "      <th>1</th>\n",
       "      <td>Technopolis plans to develop in stages an area...</td>\n",
       "      <td>neutral</td>\n",
       "    </tr>\n",
       "    <tr>\n",
       "      <th>2</th>\n",
       "      <td>With the new production plant the company woul...</td>\n",
       "      <td>positive</td>\n",
       "    </tr>\n",
       "    <tr>\n",
       "      <th>3</th>\n",
       "      <td>According to the company 's updated strategy f...</td>\n",
       "      <td>positive</td>\n",
       "    </tr>\n",
       "    <tr>\n",
       "      <th>4</th>\n",
       "      <td>For the last quarter of 2010 , Componenta 's n...</td>\n",
       "      <td>positive</td>\n",
       "    </tr>\n",
       "  </tbody>\n",
       "</table>\n",
       "</div>"
      ],
      "text/plain": [
       "                                            sentence     label\n",
       "0  According to Gran , the company has no plans t...   neutral\n",
       "1  Technopolis plans to develop in stages an area...   neutral\n",
       "2  With the new production plant the company woul...  positive\n",
       "3  According to the company 's updated strategy f...  positive\n",
       "4  For the last quarter of 2010 , Componenta 's n...  positive"
      ]
     },
     "execution_count": 16,
     "metadata": {},
     "output_type": "execute_result"
    }
   ],
   "source": [
    "df[\"label\"] = df[\"sentence\"].apply(extract_label)\n",
    "df[\"sentence\"] = df[\"sentence\"].apply(clean)\n",
    "df.head()"
   ]
  },
  {
   "cell_type": "code",
   "execution_count": 17,
   "metadata": {},
   "outputs": [
    {
     "data": {
      "text/plain": [
       "neutral     2535\n",
       "positive    1168\n",
       "negative     514\n",
       "Name: label, dtype: int64"
      ]
     },
     "execution_count": 17,
     "metadata": {},
     "output_type": "execute_result"
    }
   ],
   "source": [
    "df[\"label\"].value_counts(dropna=False)"
   ]
  },
  {
   "cell_type": "code",
   "execution_count": 18,
   "metadata": {},
   "outputs": [
    {
     "data": {
      "text/plain": [
       "(4217, 2)"
      ]
     },
     "execution_count": 18,
     "metadata": {},
     "output_type": "execute_result"
    }
   ],
   "source": [
    "df.shape"
   ]
  },
  {
   "cell_type": "code",
   "execution_count": 19,
   "metadata": {},
   "outputs": [
    {
     "data": {
      "text/plain": [
       "(4211, 2)"
      ]
     },
     "execution_count": 19,
     "metadata": {},
     "output_type": "execute_result"
    }
   ],
   "source": [
    "df = df.drop_duplicates()\n",
    "df = df.reset_index(drop=True)\n",
    "df.shape"
   ]
  },
  {
   "cell_type": "code",
   "execution_count": 20,
   "metadata": {},
   "outputs": [
    {
     "data": {
      "text/plain": [
       "neutral     2529\n",
       "positive    1168\n",
       "negative     514\n",
       "Name: label, dtype: int64"
      ]
     },
     "execution_count": 20,
     "metadata": {},
     "output_type": "execute_result"
    }
   ],
   "source": [
    "df[\"label\"].value_counts(dropna=False)"
   ]
  },
  {
   "cell_type": "code",
   "execution_count": 21,
   "metadata": {},
   "outputs": [],
   "source": [
    "df.to_csv(\"/Users/manueltonneau/Documents/Humboldt/Second semester/Master thesis/data/labeled data/FinancialPhraseBank-v1.0/Sentences_AllAgree_preprocessed_baseline.csv\",index=False)"
   ]
  },
  {
   "cell_type": "code",
   "execution_count": 22,
   "metadata": {},
   "outputs": [
    {
     "data": {
      "text/html": [
       "<div>\n",
       "<style scoped>\n",
       "    .dataframe tbody tr th:only-of-type {\n",
       "        vertical-align: middle;\n",
       "    }\n",
       "\n",
       "    .dataframe tbody tr th {\n",
       "        vertical-align: top;\n",
       "    }\n",
       "\n",
       "    .dataframe thead th {\n",
       "        text-align: right;\n",
       "    }\n",
       "</style>\n",
       "<table border=\"1\" class=\"dataframe\">\n",
       "  <thead>\n",
       "    <tr style=\"text-align: right;\">\n",
       "      <th></th>\n",
       "      <th>sentence</th>\n",
       "      <th>label_negative</th>\n",
       "      <th>label_neutral</th>\n",
       "      <th>label_positive</th>\n",
       "    </tr>\n",
       "  </thead>\n",
       "  <tbody>\n",
       "    <tr>\n",
       "      <th>0</th>\n",
       "      <td>According to Gran , the company has no plans t...</td>\n",
       "      <td>0</td>\n",
       "      <td>1</td>\n",
       "      <td>0</td>\n",
       "    </tr>\n",
       "    <tr>\n",
       "      <th>1</th>\n",
       "      <td>Technopolis plans to develop in stages an area...</td>\n",
       "      <td>0</td>\n",
       "      <td>1</td>\n",
       "      <td>0</td>\n",
       "    </tr>\n",
       "    <tr>\n",
       "      <th>2</th>\n",
       "      <td>With the new production plant the company woul...</td>\n",
       "      <td>0</td>\n",
       "      <td>0</td>\n",
       "      <td>1</td>\n",
       "    </tr>\n",
       "    <tr>\n",
       "      <th>3</th>\n",
       "      <td>According to the company 's updated strategy f...</td>\n",
       "      <td>0</td>\n",
       "      <td>0</td>\n",
       "      <td>1</td>\n",
       "    </tr>\n",
       "    <tr>\n",
       "      <th>4</th>\n",
       "      <td>For the last quarter of 2010 , Componenta 's n...</td>\n",
       "      <td>0</td>\n",
       "      <td>0</td>\n",
       "      <td>1</td>\n",
       "    </tr>\n",
       "  </tbody>\n",
       "</table>\n",
       "</div>"
      ],
      "text/plain": [
       "                                            sentence  label_negative  \\\n",
       "0  According to Gran , the company has no plans t...               0   \n",
       "1  Technopolis plans to develop in stages an area...               0   \n",
       "2  With the new production plant the company woul...               0   \n",
       "3  According to the company 's updated strategy f...               0   \n",
       "4  For the last quarter of 2010 , Componenta 's n...               0   \n",
       "\n",
       "   label_neutral  label_positive  \n",
       "0              1               0  \n",
       "1              1               0  \n",
       "2              0               1  \n",
       "3              0               1  \n",
       "4              0               1  "
      ]
     },
     "execution_count": 22,
     "metadata": {},
     "output_type": "execute_result"
    }
   ],
   "source": [
    "df = pd.get_dummies(df, columns=[\"label\"])#,prefix=['publication_name'])\n",
    "df.head()"
   ]
  },
  {
   "cell_type": "code",
   "execution_count": 23,
   "metadata": {},
   "outputs": [],
   "source": [
    "df.to_csv(\"/Users/manueltonneau/Documents/Humboldt/Second semester/Master thesis/data/labeled data/FinancialPhraseBank-v1.0/Sentences_AllAgree_preprocessed.csv\",index=False)"
   ]
  },
  {
   "cell_type": "markdown",
   "metadata": {},
   "source": [
    "## Lexicon method"
   ]
  },
  {
   "cell_type": "code",
   "execution_count": 29,
   "metadata": {},
   "outputs": [
    {
     "data": {
      "text/html": [
       "<div>\n",
       "<style scoped>\n",
       "    .dataframe tbody tr th:only-of-type {\n",
       "        vertical-align: middle;\n",
       "    }\n",
       "\n",
       "    .dataframe tbody tr th {\n",
       "        vertical-align: top;\n",
       "    }\n",
       "\n",
       "    .dataframe thead th {\n",
       "        text-align: right;\n",
       "    }\n",
       "</style>\n",
       "<table border=\"1\" class=\"dataframe\">\n",
       "  <thead>\n",
       "    <tr style=\"text-align: right;\">\n",
       "      <th></th>\n",
       "      <th>Unnamed: 0</th>\n",
       "      <th>sentence</th>\n",
       "      <th>label</th>\n",
       "      <th>pred_dico</th>\n",
       "    </tr>\n",
       "  </thead>\n",
       "  <tbody>\n",
       "    <tr>\n",
       "      <th>0</th>\n",
       "      <td>0</td>\n",
       "      <td>According to Gran , the company has no plans t...</td>\n",
       "      <td>neutral</td>\n",
       "      <td>0</td>\n",
       "    </tr>\n",
       "    <tr>\n",
       "      <th>1</th>\n",
       "      <td>1</td>\n",
       "      <td>Technopolis plans to develop in stages an area...</td>\n",
       "      <td>neutral</td>\n",
       "      <td>0</td>\n",
       "    </tr>\n",
       "    <tr>\n",
       "      <th>2</th>\n",
       "      <td>2</td>\n",
       "      <td>With the new production plant the company woul...</td>\n",
       "      <td>positive</td>\n",
       "      <td>1</td>\n",
       "    </tr>\n",
       "    <tr>\n",
       "      <th>3</th>\n",
       "      <td>3</td>\n",
       "      <td>According to the company 's updated strategy f...</td>\n",
       "      <td>positive</td>\n",
       "      <td>0</td>\n",
       "    </tr>\n",
       "    <tr>\n",
       "      <th>4</th>\n",
       "      <td>4</td>\n",
       "      <td>For the last quarter of 2010 , Componenta 's n...</td>\n",
       "      <td>positive</td>\n",
       "      <td>-1</td>\n",
       "    </tr>\n",
       "  </tbody>\n",
       "</table>\n",
       "</div>"
      ],
      "text/plain": [
       "   Unnamed: 0                                           sentence     label  \\\n",
       "0           0  According to Gran , the company has no plans t...   neutral   \n",
       "1           1  Technopolis plans to develop in stages an area...   neutral   \n",
       "2           2  With the new production plant the company woul...  positive   \n",
       "3           3  According to the company 's updated strategy f...  positive   \n",
       "4           4  For the last quarter of 2010 , Componenta 's n...  positive   \n",
       "\n",
       "   pred_dico  \n",
       "0          0  \n",
       "1          0  \n",
       "2          1  \n",
       "3          0  \n",
       "4         -1  "
      ]
     },
     "execution_count": 29,
     "metadata": {},
     "output_type": "execute_result"
    }
   ],
   "source": [
    "malo = pd.read_csv(\"/Users/manueltonneau/Documents/Humboldt/Second semester/Master thesis/results/sentiment_indices_malo/labelled_sentences_malo_dico.csv\")\n",
    "malo.head()"
   ]
  },
  {
   "cell_type": "code",
   "execution_count": 30,
   "metadata": {},
   "outputs": [
    {
     "data": {
      "text/html": [
       "<div>\n",
       "<style scoped>\n",
       "    .dataframe tbody tr th:only-of-type {\n",
       "        vertical-align: middle;\n",
       "    }\n",
       "\n",
       "    .dataframe tbody tr th {\n",
       "        vertical-align: top;\n",
       "    }\n",
       "\n",
       "    .dataframe thead th {\n",
       "        text-align: right;\n",
       "    }\n",
       "</style>\n",
       "<table border=\"1\" class=\"dataframe\">\n",
       "  <thead>\n",
       "    <tr style=\"text-align: right;\">\n",
       "      <th></th>\n",
       "      <th>Unnamed: 0</th>\n",
       "      <th>sentence</th>\n",
       "      <th>label</th>\n",
       "      <th>pred_dico</th>\n",
       "    </tr>\n",
       "  </thead>\n",
       "  <tbody>\n",
       "    <tr>\n",
       "      <th>0</th>\n",
       "      <td>0</td>\n",
       "      <td>According to Gran , the company has no plans t...</td>\n",
       "      <td>label_neutral</td>\n",
       "      <td>label_neutral</td>\n",
       "    </tr>\n",
       "    <tr>\n",
       "      <th>1</th>\n",
       "      <td>1</td>\n",
       "      <td>Technopolis plans to develop in stages an area...</td>\n",
       "      <td>label_neutral</td>\n",
       "      <td>label_neutral</td>\n",
       "    </tr>\n",
       "    <tr>\n",
       "      <th>2</th>\n",
       "      <td>2</td>\n",
       "      <td>With the new production plant the company woul...</td>\n",
       "      <td>label_positive</td>\n",
       "      <td>label_positive</td>\n",
       "    </tr>\n",
       "    <tr>\n",
       "      <th>3</th>\n",
       "      <td>3</td>\n",
       "      <td>According to the company 's updated strategy f...</td>\n",
       "      <td>label_positive</td>\n",
       "      <td>label_neutral</td>\n",
       "    </tr>\n",
       "    <tr>\n",
       "      <th>4</th>\n",
       "      <td>4</td>\n",
       "      <td>For the last quarter of 2010 , Componenta 's n...</td>\n",
       "      <td>label_positive</td>\n",
       "      <td>label_negative</td>\n",
       "    </tr>\n",
       "  </tbody>\n",
       "</table>\n",
       "</div>"
      ],
      "text/plain": [
       "   Unnamed: 0                                           sentence  \\\n",
       "0           0  According to Gran , the company has no plans t...   \n",
       "1           1  Technopolis plans to develop in stages an area...   \n",
       "2           2  With the new production plant the company woul...   \n",
       "3           3  According to the company 's updated strategy f...   \n",
       "4           4  For the last quarter of 2010 , Componenta 's n...   \n",
       "\n",
       "            label       pred_dico  \n",
       "0   label_neutral   label_neutral  \n",
       "1   label_neutral   label_neutral  \n",
       "2  label_positive  label_positive  \n",
       "3  label_positive   label_neutral  \n",
       "4  label_positive  label_negative  "
      ]
     },
     "execution_count": 30,
     "metadata": {},
     "output_type": "execute_result"
    }
   ],
   "source": [
    "malo[\"pred_dico\"] = malo[\"pred_dico\"].apply(convert_pred_baseline)\n",
    "malo[\"label\"] = malo[\"label\"].apply(convert_label)\n",
    "malo.head()"
   ]
  },
  {
   "cell_type": "markdown",
   "metadata": {},
   "source": [
    "## Baseline TFIDF"
   ]
  },
  {
   "cell_type": "code",
   "execution_count": 23,
   "metadata": {},
   "outputs": [],
   "source": [
    "# set directory\n",
    "direct = \"/home/RDC/tonneaum/\"\n",
    "\n",
    "# functions\n",
    "\n",
    "\n",
    "def tokenize(txt):\n",
    "    \"\"\"Tokenize by whitespace.\"\"\"\n",
    "    return txt.split()\n",
    "\n",
    "\n",
    "def scores(row):\n",
    "    \"\"\"Map textual sentiment categories to numbers in pandas df.\"\"\"\n",
    "    if row == \"neutral\":\n",
    "        val = 0\n",
    "    elif row == \"positive\":\n",
    "        val = 1\n",
    "    else:\n",
    "        val = -1\n",
    "\n",
    "    return val\n",
    "\n",
    "\n",
    "def accuracy(pred, actual):\n",
    "    \"\"\"Calculate accuracy of predictions.\"\"\"\n",
    "    return sum(pred == actual) / len(pred)\n",
    "\n",
    "\n",
    "# Note: Modified to allow for upsampling, keep original data give indices.\n",
    "# stackoverflow.com/questions/23455728/scikit-learn-balanced-subsampling\n",
    "\n",
    "def balanced_subsample(x, y, subsample_size = 1.0, set_seed = None):\n",
    "    \"\"\"Create a balanced subsample with upsampling.\"\"\"\n",
    "    x = np.asarray(x)\n",
    "    y = np.asarray(y)\n",
    "    #len_x = x.shape[0]\n",
    "    if set_seed is None:\n",
    "        np.random.seed()\n",
    "    else:\n",
    "        np.random.seed(set_seed)\n",
    "\n",
    "    class_xs = []\n",
    "    max_elems = None\n",
    "    ix = np.asarray(list(range(0, len(x))))\n",
    "    for yi in np.unique(y):\n",
    "        indx = ix[(y == yi)]\n",
    "        elems = x[(y == yi)]\n",
    "        class_xs.append((yi, elems, indx))\n",
    "        if max_elems is None or elems.shape[0] > max_elems:\n",
    "            max_elems = elems.shape[0]\n",
    "\n",
    "    use_elems = max_elems\n",
    "    if subsample_size < 1:\n",
    "        use_elems = int(max_elems * subsample_size)\n",
    "\n",
    "    xs = []\n",
    "    ys = []\n",
    "    xx = []\n",
    "\n",
    "    for ci, this_xs, ix in class_xs:\n",
    "        n_xs = len(this_xs)\n",
    "        ix2 = list(range(0, n_xs))\n",
    "        if n_xs < use_elems:\n",
    "            diff = use_elems - n_xs\n",
    "            extr = np.random.choice(ix2, size = diff, replace = True)\n",
    "            ix = np.append(ix, [ix[i] for i in extr])\n",
    "            ix2 = np.append(ix2, extr)\n",
    "            this_xs = [this_xs[i] for i in ix2]\n",
    "\n",
    "        x_ = this_xs[:use_elems]\n",
    "        y_ = np.empty(use_elems)\n",
    "        y_.fill(ci)\n",
    "\n",
    "        xs.append(x_)\n",
    "        ys.append(y_)\n",
    "        xx.append(ix)\n",
    "\n",
    "    xs = np.concatenate(xs)\n",
    "    ys = np.concatenate(ys)\n",
    "    xx = np.concatenate(xx)\n",
    "\n",
    "    xs = list(xs)\n",
    "    ys = list(ys)\n",
    "    xx = list(xx)\n",
    "\n",
    "    ys = [int(i) for i in ys]\n",
    "\n",
    "    return xs, ys, xx\n",
    "\n",
    "\n",
    "def indexer(index1, index2):\n",
    "    \"\"\"Return indexed elements of variable.\"\"\"\n",
    "    return [index1[i] for i in index2]\n",
    "\n",
    "\n",
    "def cver(y, x, folds, seed):\n",
    "    \"\"\"Stratified k-fold crossvalidation with upsampling.\"\"\"\n",
    "    skf = StratifiedKFold(y, n_folds = folds, shuffle = True,\n",
    "                          random_state = seed)\n",
    "\n",
    "    ind = np.array(list(range(0, len(x))))\n",
    "\n",
    "    ind_train, ind_test = [], []\n",
    "    x_train, x_test = [], []\n",
    "    y_train, y_test = [], []\n",
    "\n",
    "    for train_set, test_set in skf:\n",
    "        x_train.append(x[train_set])\n",
    "        x_test.append(x[test_set])\n",
    "        y_train.append(y[train_set])\n",
    "        y_test.append(y[test_set])\n",
    "        ind_train.append(ind[train_set])\n",
    "        ind_test.append(ind[test_set])\n",
    "\n",
    "    ind_train_tmp, ind_test_tmp = [], []\n",
    "\n",
    "    # Upsample\n",
    "    for i in range(0, len(x_train)):\n",
    "        bal_res = balanced_subsample(x_train[i], y_train[i], set_seed = seed)\n",
    "        x_train[i] = bal_res[0]\n",
    "        y_train[i] = bal_res[1]\n",
    "        ind_train_tmp.append(bal_res[2])\n",
    "\n",
    "    for i in range(0, len(x_test)):\n",
    "        bal_res = balanced_subsample(x_test[i], y_test[i], set_seed = seed)\n",
    "        x_test[i] = bal_res[0]\n",
    "        y_test[i] = bal_res[1]\n",
    "        ind_test_tmp.append(bal_res[2])\n",
    "\n",
    "    # Indices\n",
    "    custom_cv = []\n",
    "    for i in range(0, len(ind_train)):\n",
    "        train_indices = np.array(indexer(list(ind_train[i]), ind_train_tmp[i]))\n",
    "        test_indices = np.array(indexer(list(ind_test[i]), ind_test_tmp[i]))\n",
    "        custom_cv.append((train_indices, test_indices))\n",
    "\n",
    "    return custom_cv\n",
    "\n",
    "\n",
    "def cv_pred(x, y, custom_cv, piper, unique_y = True):\n",
    "    \"\"\"Predict value of model fitted by using cver fct.\"\"\"\n",
    "    sub_y = []\n",
    "    sub_preds = []\n",
    "    sub_score = []\n",
    "\n",
    "    for i in range(0, len(custom_cv)):\n",
    "        train_ind = custom_cv[i][0]\n",
    "        test_ind = custom_cv[i][1]\n",
    "\n",
    "        if unique_y is True:\n",
    "            test_ind = list(set(test_ind))\n",
    "\n",
    "        x_train_sub = [x[i] for i in train_ind]\n",
    "        y_train_sub = [y[i] for i in train_ind]\n",
    "\n",
    "        x_test_sub = [x[i] for i in test_ind]\n",
    "        y_test_sub = [y[i] for i in test_ind]\n",
    "\n",
    "        results_sub = piper.fit(x_train_sub, y_train_sub)\n",
    "\n",
    "        sub_y.extend(y_test_sub)\n",
    "        sub_preds.extend(results_sub.predict(x_test_sub))\n",
    "        sub_score.append(results_sub.score(x_test_sub, y_test_sub))\n",
    "\n",
    "    return sub_score, sub_y, sub_preds\n"
   ]
  },
  {
   "cell_type": "code",
   "execution_count": 24,
   "metadata": {},
   "outputs": [],
   "source": [
    "df = pd.read_csv(\"/Users/manueltonneau/Documents/Humboldt/Second semester/Master thesis/data/labeled data/FinancialPhraseBank-v1.0/Sentences_AllAgree_preprocessed_baseline.csv\")"
   ]
  },
  {
   "cell_type": "code",
   "execution_count": 25,
   "metadata": {},
   "outputs": [
    {
     "data": {
      "text/plain": [
       "(4211, 2)"
      ]
     },
     "execution_count": 25,
     "metadata": {},
     "output_type": "execute_result"
    }
   ],
   "source": [
    "df.shape"
   ]
  },
  {
   "cell_type": "code",
   "execution_count": 26,
   "metadata": {},
   "outputs": [
    {
     "data": {
      "text/html": [
       "<div>\n",
       "<style scoped>\n",
       "    .dataframe tbody tr th:only-of-type {\n",
       "        vertical-align: middle;\n",
       "    }\n",
       "\n",
       "    .dataframe tbody tr th {\n",
       "        vertical-align: top;\n",
       "    }\n",
       "\n",
       "    .dataframe thead th {\n",
       "        text-align: right;\n",
       "    }\n",
       "</style>\n",
       "<table border=\"1\" class=\"dataframe\">\n",
       "  <thead>\n",
       "    <tr style=\"text-align: right;\">\n",
       "      <th></th>\n",
       "      <th>sentence</th>\n",
       "      <th>label</th>\n",
       "      <th>id</th>\n",
       "    </tr>\n",
       "  </thead>\n",
       "  <tbody>\n",
       "    <tr>\n",
       "      <th>0</th>\n",
       "      <td>According to Gran , the company has no plans t...</td>\n",
       "      <td>neutral</td>\n",
       "      <td>0</td>\n",
       "    </tr>\n",
       "    <tr>\n",
       "      <th>1</th>\n",
       "      <td>Technopolis plans to develop in stages an area...</td>\n",
       "      <td>neutral</td>\n",
       "      <td>1</td>\n",
       "    </tr>\n",
       "    <tr>\n",
       "      <th>2</th>\n",
       "      <td>With the new production plant the company woul...</td>\n",
       "      <td>positive</td>\n",
       "      <td>2</td>\n",
       "    </tr>\n",
       "    <tr>\n",
       "      <th>3</th>\n",
       "      <td>According to the company 's updated strategy f...</td>\n",
       "      <td>positive</td>\n",
       "      <td>3</td>\n",
       "    </tr>\n",
       "    <tr>\n",
       "      <th>4</th>\n",
       "      <td>For the last quarter of 2010 , Componenta 's n...</td>\n",
       "      <td>positive</td>\n",
       "      <td>4</td>\n",
       "    </tr>\n",
       "  </tbody>\n",
       "</table>\n",
       "</div>"
      ],
      "text/plain": [
       "                                            sentence     label  id\n",
       "0  According to Gran , the company has no plans t...   neutral   0\n",
       "1  Technopolis plans to develop in stages an area...   neutral   1\n",
       "2  With the new production plant the company woul...  positive   2\n",
       "3  According to the company 's updated strategy f...  positive   3\n",
       "4  For the last quarter of 2010 , Componenta 's n...  positive   4"
      ]
     },
     "execution_count": 26,
     "metadata": {},
     "output_type": "execute_result"
    }
   ],
   "source": [
    "df[\"id\"] = df.index\n",
    "df.head()"
   ]
  },
  {
   "cell_type": "code",
   "execution_count": 27,
   "metadata": {},
   "outputs": [],
   "source": [
    "\n",
    "REPLACE_BY_SPACE_RE = re.compile('[/(){}\\[\\]\\|@,;]')\n",
    "BAD_SYMBOLS_RE = re.compile('[^0-9a-z #+_]')\n",
    "#STOPWORDS = set(stopwords.words('english'))\n",
    "def clean_text(text):\n",
    "    \"\"\"\n",
    "        text: a string\n",
    "        \n",
    "        return: modified initial string\n",
    "    \"\"\"\n",
    "    text = re.sub(r'^https?:\\/\\/.*[\\r\\n]*', '', text, flags=re.MULTILINE)\n",
    "    text = text.replace('\\n', ' ')\n",
    "    text = BeautifulSoup(text, \"lxml\").text # HTML decoding\n",
    "    text = text.lower() # lowercase text\n",
    "    text = REPLACE_BY_SPACE_RE.sub(' ', text) # replace REPLACE_BY_SPACE_RE symbols by space in text\n",
    "    text = BAD_SYMBOLS_RE.sub('', text) # delete symbols which are in BAD_SYMBOLS_RE from text\n",
    "    #text = ' '.join(word for word in text.split() if word not in STOPWORDS) # delete stopwors from text\n",
    "    return text"
   ]
  },
  {
   "cell_type": "code",
   "execution_count": 28,
   "metadata": {},
   "outputs": [],
   "source": [
    "df[\"sentence\"] = df[\"sentence\"].apply(clean_text)\n",
    "df[\"label\"] = df[\"label\"].apply(scores)\n",
    "df.columns = [\"lemma\",\"sentiment\",\"ident\"]"
   ]
  },
  {
   "cell_type": "code",
   "execution_count": 29,
   "metadata": {},
   "outputs": [],
   "source": [
    "# setup\n",
    "seed = 123\n",
    "folds = 5"
   ]
  },
  {
   "cell_type": "code",
   "execution_count": 30,
   "metadata": {},
   "outputs": [],
   "source": [
    "from sklearn.model_selection import train_test_split\n",
    "X_train, X_test, y_train, y_test = train_test_split(df[\"lemma\"], df[\"sentiment\"], test_size=0.2, random_state=42)"
   ]
  },
  {
   "cell_type": "code",
   "execution_count": 31,
   "metadata": {},
   "outputs": [
    {
     "data": {
      "text/plain": [
       "(1269, 2)"
      ]
     },
     "execution_count": 31,
     "metadata": {},
     "output_type": "execute_result"
    }
   ],
   "source": [
    "#undersampling\n",
    "rus = RandomUnderSampler()\n",
    "X_train_resampled, y_train_resampled = rus.fit_resample(np.asarray(X_train).reshape(-1,1), y_train)\n",
    "\n",
    "#X_resampled.tolist()\n",
    "df_resample = pd.DataFrame(data=[])\n",
    "df_resample[\"lemma\"] = reduce(operator.concat, X_train_resampled.tolist())\n",
    "df_resample[\"sentiment\"] = y_train_resampled\n",
    "df_resample.head()\n",
    "df_resample.shape\n",
    "#df_resample[\"lemma\"] = X_resampled\n",
    "#df.head()"
   ]
  },
  {
   "cell_type": "code",
   "execution_count": 100,
   "metadata": {},
   "outputs": [
    {
     "data": {
      "text/plain": [
       "(3368,)"
      ]
     },
     "execution_count": 100,
     "metadata": {},
     "output_type": "execute_result"
    }
   ],
   "source": [
    "X_train.shape"
   ]
  },
  {
   "cell_type": "code",
   "execution_count": 94,
   "metadata": {},
   "outputs": [
    {
     "data": {
      "text/plain": [
       " 1    423\n",
       " 0    423\n",
       "-1    423\n",
       "Name: sentiment, dtype: int64"
      ]
     },
     "execution_count": 94,
     "metadata": {},
     "output_type": "execute_result"
    }
   ],
   "source": [
    "df_resample[\"sentiment\"].value_counts(dropna=False)"
   ]
  },
  {
   "cell_type": "code",
   "execution_count": 32,
   "metadata": {},
   "outputs": [],
   "source": [
    "#oversampling\n",
    "from imblearn.over_sampling import SMOTE\n",
    "smote = SMOTE('minority')\n",
    "#X_sm,y_sm = smote.fit_sample(X_train,y_train)"
   ]
  },
  {
   "cell_type": "code",
   "execution_count": 33,
   "metadata": {},
   "outputs": [],
   "source": [
    "from imblearn.pipeline import Pipeline as Pipeline_imblearn\n",
    "vect = CountVectorizer(tokenizer = tokenize)\n",
    "tfidf = TfidfTransformer()\n",
    "smt = SMOTE()\n",
    "svm = SGDClassifier()"
   ]
  },
  {
   "cell_type": "code",
   "execution_count": 34,
   "metadata": {},
   "outputs": [
    {
     "data": {
      "text/plain": [
       "Pipeline(memory=None,\n",
       "         steps=[('vect',\n",
       "                 CountVectorizer(analyzer='word', binary=False,\n",
       "                                 decode_error='strict',\n",
       "                                 dtype=<class 'numpy.int64'>, encoding='utf-8',\n",
       "                                 input='content', lowercase=True, max_df=1.0,\n",
       "                                 max_features=None, min_df=1,\n",
       "                                 ngram_range=(1, 1), preprocessor=None,\n",
       "                                 stop_words=None, strip_accents=None,\n",
       "                                 token_pattern='(?u)\\\\b\\\\w\\\\w+\\\\b',\n",
       "                                 tokenizer=<function tokenize at...\n",
       "                 SGDClassifier(alpha=0.0001, average=False, class_weight=None,\n",
       "                               early_stopping=False, epsilon=0.1, eta0=0.0,\n",
       "                               fit_intercept=True, l1_ratio=0.15,\n",
       "                               learning_rate='optimal', loss='hinge',\n",
       "                               max_iter=1000, n_iter_no_change=5, n_jobs=None,\n",
       "                               penalty='l2', power_t=0.5, random_state=None,\n",
       "                               shuffle=True, tol=0.001, validation_fraction=0.1,\n",
       "                               verbose=0, warm_start=False))],\n",
       "         verbose=False)"
      ]
     },
     "execution_count": 34,
     "metadata": {},
     "output_type": "execute_result"
    }
   ],
   "source": [
    "#custom_cv = cver(sco, lem, folds, seed)\n",
    "piper_baseline = Pipeline([(\"vect\", CountVectorizer(tokenizer = tokenize)),#, ngram_range=(1,2),min_df = 0.0, max_df=0.85)),\n",
    "                  (\"tfidf\", TfidfTransformer()),#norm=\"l2\",sublinear_tf=True,use_idf= True)),\n",
    "                  (\"clf\", MultinomialNB())])#shuffle = True,n_iter_no_change = 80, random_state = seed,alpha = 0.0001,loss=\"hinge\",penalty=\"l1\"))])\n",
    "\n",
    "\n",
    "piper_basic = Pipeline([(\"vect\", CountVectorizer(tokenizer = tokenize)),#, ngram_range=(1,2),min_df = 0.0, max_df=0.85)),\n",
    "                  (\"tfidf\", TfidfTransformer()),#norm=\"l2\",sublinear_tf=True,use_idf= True)),\n",
    "                  (\"clf\", SGDClassifier())])#shuffle = True,n_iter_no_change = 80, random_state = seed,alpha = 0.0001,loss=\"hinge\",penalty=\"l1\"))])\n",
    "\n",
    "piper_basic_undersample = Pipeline([(\"vect\", CountVectorizer(tokenizer = tokenize)),#, ngram_range=(1,2),min_df = 0.0, max_df=0.85)),\n",
    "                  (\"tfidf\", TfidfTransformer()),#norm=\"l2\",sublinear_tf=True,use_idf= True)),\n",
    "                  (\"clf\", SGDClassifier())])#shuffle = True,n_iter_no_change = 80, random_state = seed,alpha = 0.0001,loss=\"hinge\",penalty=\"l1\"))])\n",
    "\n",
    "#piper_basic_undersample = Pipeline([(\"vect\", CountVectorizer(tokenizer = tokenize)),#, ngram_range=(1,2),min_df = 0.0, max_df=0.85)),\n",
    "#                  (\"tfidf\", TfidfTransformer()),\n",
    "#                  (\"smote\", SMOTE('minority')),\n",
    "#                  (\"clf\", SGDClassifier())])#shuffle = True,n_iter_no_change = 80, random_state = seed,alpha = 0.0001,loss=\"hinge\",penalty=\"l1\"))])\n",
    "\n",
    "piper_basic_smote = Pipeline_imblearn([('vect', vect), ('tfidf', tfidf), ('smt', smt), ('svm', svm)])\n",
    "\n",
    "\n",
    "piper = Pipeline([(\"vect\", CountVectorizer(tokenizer = tokenize, ngram_range=(1,2),min_df = 0.0, max_df=0.85)),\n",
    "                  (\"tfidf\", TfidfTransformer(norm=\"l2\",sublinear_tf=True,use_idf= True)),\n",
    "                  (\"clf\", SGDClassifier(shuffle = True,n_iter_no_change = 80, random_state = seed,alpha = 0.0001,loss=\"hinge\",penalty=\"l1\"))])\n",
    "\n",
    "piper_baseline.fit(X_train,y_train)\n",
    "piper_basic.fit(X_train,y_train)\n",
    "piper.fit(X_train,y_train)\n",
    "piper_basic_undersample.fit(df_resample[\"lemma\"],df_resample[\"sentiment\"])\n",
    "piper_basic_smote.fit(X_train, y_train)"
   ]
  },
  {
   "cell_type": "code",
   "execution_count": 35,
   "metadata": {},
   "outputs": [
    {
     "data": {
      "text/html": [
       "<div>\n",
       "<style scoped>\n",
       "    .dataframe tbody tr th:only-of-type {\n",
       "        vertical-align: middle;\n",
       "    }\n",
       "\n",
       "    .dataframe tbody tr th {\n",
       "        vertical-align: top;\n",
       "    }\n",
       "\n",
       "    .dataframe thead th {\n",
       "        text-align: right;\n",
       "    }\n",
       "</style>\n",
       "<table border=\"1\" class=\"dataframe\">\n",
       "  <thead>\n",
       "    <tr style=\"text-align: right;\">\n",
       "      <th></th>\n",
       "      <th>lemma</th>\n",
       "      <th>pred_baseline</th>\n",
       "      <th>pred_gridsearch</th>\n",
       "      <th>pred_without_gridsearch</th>\n",
       "      <th>pred_without_gridsearch_undersampling</th>\n",
       "      <th>pred_without_gridsearch_smote</th>\n",
       "      <th>true</th>\n",
       "    </tr>\n",
       "  </thead>\n",
       "  <tbody>\n",
       "    <tr>\n",
       "      <th>96</th>\n",
       "      <td>in the fourth quarter of 2008   net sales incr...</td>\n",
       "      <td>1</td>\n",
       "      <td>1</td>\n",
       "      <td>1</td>\n",
       "      <td>1</td>\n",
       "      <td>1</td>\n",
       "      <td>1</td>\n",
       "    </tr>\n",
       "    <tr>\n",
       "      <th>3305</th>\n",
       "      <td>the contract value amounts to eur 24 million</td>\n",
       "      <td>0</td>\n",
       "      <td>0</td>\n",
       "      <td>0</td>\n",
       "      <td>0</td>\n",
       "      <td>0</td>\n",
       "      <td>0</td>\n",
       "    </tr>\n",
       "    <tr>\n",
       "      <th>811</th>\n",
       "      <td>demand for sports equipment was good in 2005</td>\n",
       "      <td>1</td>\n",
       "      <td>1</td>\n",
       "      <td>1</td>\n",
       "      <td>1</td>\n",
       "      <td>1</td>\n",
       "      <td>1</td>\n",
       "    </tr>\n",
       "    <tr>\n",
       "      <th>463</th>\n",
       "      <td>tielinja generated net sales of 75 mln euro  9...</td>\n",
       "      <td>0</td>\n",
       "      <td>0</td>\n",
       "      <td>0</td>\n",
       "      <td>-1</td>\n",
       "      <td>0</td>\n",
       "      <td>0</td>\n",
       "    </tr>\n",
       "    <tr>\n",
       "      <th>2303</th>\n",
       "      <td>nordic infrastructure construction is one of ...</td>\n",
       "      <td>0</td>\n",
       "      <td>1</td>\n",
       "      <td>1</td>\n",
       "      <td>0</td>\n",
       "      <td>1</td>\n",
       "      <td>0</td>\n",
       "    </tr>\n",
       "  </tbody>\n",
       "</table>\n",
       "</div>"
      ],
      "text/plain": [
       "                                                  lemma  pred_baseline  \\\n",
       "96    in the fourth quarter of 2008   net sales incr...              1   \n",
       "3305      the contract value amounts to eur 24 million               0   \n",
       "811       demand for sports equipment was good in 2005               1   \n",
       "463   tielinja generated net sales of 75 mln euro  9...              0   \n",
       "2303   nordic infrastructure construction is one of ...              0   \n",
       "\n",
       "      pred_gridsearch  pred_without_gridsearch  \\\n",
       "96                  1                        1   \n",
       "3305                0                        0   \n",
       "811                 1                        1   \n",
       "463                 0                        0   \n",
       "2303                1                        1   \n",
       "\n",
       "      pred_without_gridsearch_undersampling  pred_without_gridsearch_smote  \\\n",
       "96                                        1                              1   \n",
       "3305                                      0                              0   \n",
       "811                                       1                              1   \n",
       "463                                      -1                              0   \n",
       "2303                                      0                              1   \n",
       "\n",
       "      true  \n",
       "96       1  \n",
       "3305     0  \n",
       "811      1  \n",
       "463      0  \n",
       "2303     0  "
      ]
     },
     "execution_count": 35,
     "metadata": {},
     "output_type": "execute_result"
    }
   ],
   "source": [
    "results_baseline = pd.DataFrame(data = X_test)\n",
    "results_baseline[\"pred_baseline\"] = piper_baseline.predict(X_test)\n",
    "results_baseline[\"pred_gridsearch\"] = piper.predict(X_test)\n",
    "results_baseline[\"pred_without_gridsearch\"] = piper_basic.predict(X_test)\n",
    "results_baseline[\"pred_without_gridsearch_undersampling\"] = piper_basic_undersample.predict(X_test)\n",
    "results_baseline[\"pred_without_gridsearch_smote\"] = piper_basic_smote.predict(X_test)\n",
    "\n",
    "results_baseline[\"true\"] = y_test\n",
    "results_baseline.head()"
   ]
  },
  {
   "cell_type": "code",
   "execution_count": 37,
   "metadata": {},
   "outputs": [
    {
     "data": {
      "text/html": [
       "<div>\n",
       "<style scoped>\n",
       "    .dataframe tbody tr th:only-of-type {\n",
       "        vertical-align: middle;\n",
       "    }\n",
       "\n",
       "    .dataframe tbody tr th {\n",
       "        vertical-align: top;\n",
       "    }\n",
       "\n",
       "    .dataframe thead th {\n",
       "        text-align: right;\n",
       "    }\n",
       "</style>\n",
       "<table border=\"1\" class=\"dataframe\">\n",
       "  <thead>\n",
       "    <tr style=\"text-align: right;\">\n",
       "      <th></th>\n",
       "      <th>lemma</th>\n",
       "      <th>pred_baseline</th>\n",
       "      <th>pred_gridsearch</th>\n",
       "      <th>pred_without_gridsearch</th>\n",
       "      <th>pred_without_gridsearch_undersampling</th>\n",
       "      <th>pred_without_gridsearch_smote</th>\n",
       "      <th>true</th>\n",
       "    </tr>\n",
       "  </thead>\n",
       "  <tbody>\n",
       "    <tr>\n",
       "      <th>96</th>\n",
       "      <td>in the fourth quarter of 2008   net sales incr...</td>\n",
       "      <td>label_positive</td>\n",
       "      <td>label_positive</td>\n",
       "      <td>label_positive</td>\n",
       "      <td>label_positive</td>\n",
       "      <td>label_positive</td>\n",
       "      <td>label_positive</td>\n",
       "    </tr>\n",
       "    <tr>\n",
       "      <th>3305</th>\n",
       "      <td>the contract value amounts to eur 24 million</td>\n",
       "      <td>label_neutral</td>\n",
       "      <td>label_neutral</td>\n",
       "      <td>label_neutral</td>\n",
       "      <td>label_neutral</td>\n",
       "      <td>label_neutral</td>\n",
       "      <td>label_neutral</td>\n",
       "    </tr>\n",
       "    <tr>\n",
       "      <th>811</th>\n",
       "      <td>demand for sports equipment was good in 2005</td>\n",
       "      <td>label_positive</td>\n",
       "      <td>label_positive</td>\n",
       "      <td>label_positive</td>\n",
       "      <td>label_positive</td>\n",
       "      <td>label_positive</td>\n",
       "      <td>label_positive</td>\n",
       "    </tr>\n",
       "    <tr>\n",
       "      <th>463</th>\n",
       "      <td>tielinja generated net sales of 75 mln euro  9...</td>\n",
       "      <td>label_neutral</td>\n",
       "      <td>label_neutral</td>\n",
       "      <td>label_neutral</td>\n",
       "      <td>label_negative</td>\n",
       "      <td>label_neutral</td>\n",
       "      <td>label_neutral</td>\n",
       "    </tr>\n",
       "    <tr>\n",
       "      <th>2303</th>\n",
       "      <td>nordic infrastructure construction is one of ...</td>\n",
       "      <td>label_neutral</td>\n",
       "      <td>label_positive</td>\n",
       "      <td>label_positive</td>\n",
       "      <td>label_neutral</td>\n",
       "      <td>label_positive</td>\n",
       "      <td>label_neutral</td>\n",
       "    </tr>\n",
       "  </tbody>\n",
       "</table>\n",
       "</div>"
      ],
      "text/plain": [
       "                                                  lemma   pred_baseline  \\\n",
       "96    in the fourth quarter of 2008   net sales incr...  label_positive   \n",
       "3305      the contract value amounts to eur 24 million    label_neutral   \n",
       "811       demand for sports equipment was good in 2005   label_positive   \n",
       "463   tielinja generated net sales of 75 mln euro  9...   label_neutral   \n",
       "2303   nordic infrastructure construction is one of ...   label_neutral   \n",
       "\n",
       "     pred_gridsearch pred_without_gridsearch  \\\n",
       "96    label_positive          label_positive   \n",
       "3305   label_neutral           label_neutral   \n",
       "811   label_positive          label_positive   \n",
       "463    label_neutral           label_neutral   \n",
       "2303  label_positive          label_positive   \n",
       "\n",
       "     pred_without_gridsearch_undersampling pred_without_gridsearch_smote  \\\n",
       "96                          label_positive                label_positive   \n",
       "3305                         label_neutral                 label_neutral   \n",
       "811                         label_positive                label_positive   \n",
       "463                         label_negative                 label_neutral   \n",
       "2303                         label_neutral                label_positive   \n",
       "\n",
       "                true  \n",
       "96    label_positive  \n",
       "3305   label_neutral  \n",
       "811   label_positive  \n",
       "463    label_neutral  \n",
       "2303   label_neutral  "
      ]
     },
     "execution_count": 37,
     "metadata": {},
     "output_type": "execute_result"
    }
   ],
   "source": [
    "results_baseline[\"pred_baseline\"] = results_baseline[\"pred_baseline\"].apply(convert_pred_baseline)\n",
    "results_baseline[\"pred_gridsearch\"] = results_baseline[\"pred_gridsearch\"].apply(convert_pred_baseline)\n",
    "results_baseline[\"pred_without_gridsearch\"] = results_baseline[\"pred_without_gridsearch\"].apply(convert_pred_baseline)\n",
    "results_baseline[\"pred_without_gridsearch_undersampling\"] = results_baseline[\"pred_without_gridsearch_undersampling\"].apply(convert_pred_baseline)\n",
    "results_baseline[\"pred_without_gridsearch_smote\"] = results_baseline[\"pred_without_gridsearch_smote\"].apply(convert_pred_baseline)\n",
    "\n",
    "\n",
    "results_baseline[\"true\"] = results_baseline[\"true\"].apply(convert_pred_baseline)\n",
    "results_baseline.head()"
   ]
  },
  {
   "cell_type": "markdown",
   "metadata": {},
   "source": [
    "# Baseline Word2Vec SVM"
   ]
  },
  {
   "cell_type": "code",
   "execution_count": 38,
   "metadata": {},
   "outputs": [],
   "source": [
    "# Creating the model and setting values for the various parameters\n",
    "num_features = 300  # Word vector dimensionality\n",
    "min_word_count = 40 # Minimum word count\n",
    "num_workers = 4     # Number of parallel threads\n",
    "context = 10        # Context window size\n",
    "downsampling = 1e-3 # (0.001) Downsample setting for frequent words\n"
   ]
  },
  {
   "cell_type": "code",
   "execution_count": 39,
   "metadata": {},
   "outputs": [],
   "source": [
    "model = word2vec.Word2Vec(X_train,\n",
    "                          workers=num_workers,\n",
    "                          size=num_features,\n",
    "                          min_count=min_word_count,\n",
    "                          window=context,\n",
    "                          sample=downsampling)\n",
    "                          #sg=1)"
   ]
  },
  {
   "cell_type": "code",
   "execution_count": 40,
   "metadata": {},
   "outputs": [
    {
     "name": "stderr",
     "output_type": "stream",
     "text": [
      "/anaconda3/lib/python3.7/site-packages/smart_open/smart_open_lib.py:398: UserWarning: This function is deprecated, use smart_open.open instead. See the migration notes for details: https://github.com/RaRe-Technologies/smart_open/blob/master/README.rst#migrating-to-the-new-open-function\n",
      "  'See the migration notes for details: %s' % _MIGRATION_NOTES_URL\n"
     ]
    },
    {
     "data": {
      "text/plain": [
       "(400001, 300)"
      ]
     },
     "execution_count": 40,
     "metadata": {},
     "output_type": "execute_result"
    }
   ],
   "source": [
    "glove2word2vec(glove_input_file=\"/Users/manueltonneau/Documents/Humboldt/Second semester/Master thesis/data/glove.6B/glove.6B.300d.txt\", word2vec_output_file=\"/Users/manueltonneau/Documents/Humboldt/Second semester/Master thesis/data/glove.6B/glove.6B.300d_gensim.txt\")\n"
   ]
  },
  {
   "cell_type": "code",
   "execution_count": 41,
   "metadata": {},
   "outputs": [
    {
     "name": "stderr",
     "output_type": "stream",
     "text": [
      "/anaconda3/lib/python3.7/site-packages/smart_open/smart_open_lib.py:398: UserWarning: This function is deprecated, use smart_open.open instead. See the migration notes for details: https://github.com/RaRe-Technologies/smart_open/blob/master/README.rst#migrating-to-the-new-open-function\n",
      "  'See the migration notes for details: %s' % _MIGRATION_NOTES_URL\n"
     ]
    }
   ],
   "source": [
    "glove_model = KeyedVectors.load_word2vec_format(\"/Users/manueltonneau/Documents/Humboldt/Second semester/Master thesis/data/glove.6B/glove.6B.300d_gensim.txt\", binary=False)\n"
   ]
  },
  {
   "cell_type": "code",
   "execution_count": 42,
   "metadata": {},
   "outputs": [],
   "source": [
    "# Function to average all word vectors in a paragraph\n",
    "def featureVecMethod(words, model, num_features):\n",
    "    # Pre-initialising empty numpy array for speed\n",
    "    featureVec = np.zeros(num_features,dtype=\"float32\")\n",
    "    nwords = 0\n",
    "    \n",
    "    #Converting Index2Word which is a list to a set for better speed in the execution.\n",
    "    index2word_set = set(model.wv.index2word)\n",
    "    \n",
    "    for word in  words:\n",
    "        if word in index2word_set:\n",
    "            nwords = nwords + 1\n",
    "            featureVec = np.add(featureVec,model[word])\n",
    "    \n",
    "    # Dividing the result by number of words to get average\n",
    "    featureVec = np.divide(featureVec, nwords)\n",
    "    return featureVec"
   ]
  },
  {
   "cell_type": "code",
   "execution_count": 43,
   "metadata": {},
   "outputs": [],
   "source": [
    "# Function for calculating the average feature vector\n",
    "def getAvgFeatureVecs(reviews, model, num_features):\n",
    "    counter = 0\n",
    "    reviewFeatureVecs = np.zeros((len(reviews),num_features),dtype=\"float32\")\n",
    "    for review in reviews:\n",
    "        # Printing a status message every 1000th review\n",
    "        if counter%1000 == 0:\n",
    "            print(\"Review %d of %d\"%(counter,len(reviews)))\n",
    "            \n",
    "        reviewFeatureVecs[counter] = featureVecMethod(review, model, num_features)\n",
    "        counter = counter+1\n",
    "        \n",
    "    return reviewFeatureVecs"
   ]
  },
  {
   "cell_type": "code",
   "execution_count": 44,
   "metadata": {},
   "outputs": [
    {
     "name": "stdout",
     "output_type": "stream",
     "text": [
      "Review 0 of 3368\n"
     ]
    },
    {
     "name": "stderr",
     "output_type": "stream",
     "text": [
      "/anaconda3/lib/python3.7/site-packages/ipykernel_launcher.py:13: DeprecationWarning: Call to deprecated `__getitem__` (Method will be removed in 4.0.0, use self.wv.__getitem__() instead).\n",
      "  del sys.path[0]\n"
     ]
    },
    {
     "name": "stdout",
     "output_type": "stream",
     "text": [
      "Review 1000 of 3368\n",
      "Review 2000 of 3368\n",
      "Review 3000 of 3368\n",
      "Review 0 of 3368\n"
     ]
    },
    {
     "name": "stderr",
     "output_type": "stream",
     "text": [
      "/anaconda3/lib/python3.7/site-packages/ipykernel_launcher.py:8: DeprecationWarning: Call to deprecated `wv` (Attribute will be removed in 4.0.0, use self instead).\n",
      "  \n"
     ]
    },
    {
     "name": "stdout",
     "output_type": "stream",
     "text": [
      "Review 1000 of 3368\n",
      "Review 2000 of 3368\n",
      "Review 3000 of 3368\n"
     ]
    }
   ],
   "source": [
    "trainDataVecs = getAvgFeatureVecs(X_train, model, num_features)\n",
    "trainDataVecs_glove = getAvgFeatureVecs(X_train, glove_model, num_features)\n"
   ]
  },
  {
   "cell_type": "code",
   "execution_count": 45,
   "metadata": {},
   "outputs": [],
   "source": [
    "trainDataVecs = np.nan_to_num(trainDataVecs)\n",
    "trainDataVecs_glove = np.nan_to_num(trainDataVecs_glove)"
   ]
  },
  {
   "cell_type": "code",
   "execution_count": 46,
   "metadata": {},
   "outputs": [],
   "source": [
    "X_train_w2v = pd.DataFrame(data=trainDataVecs)\n",
    "X_train_w2v_glove = pd.DataFrame(data=trainDataVecs_glove)"
   ]
  },
  {
   "cell_type": "code",
   "execution_count": 47,
   "metadata": {},
   "outputs": [
    {
     "name": "stdout",
     "output_type": "stream",
     "text": [
      "Review 0 of 843\n"
     ]
    },
    {
     "name": "stderr",
     "output_type": "stream",
     "text": [
      "/anaconda3/lib/python3.7/site-packages/ipykernel_launcher.py:13: DeprecationWarning: Call to deprecated `__getitem__` (Method will be removed in 4.0.0, use self.wv.__getitem__() instead).\n",
      "  del sys.path[0]\n"
     ]
    },
    {
     "name": "stdout",
     "output_type": "stream",
     "text": [
      "Review 0 of 843\n"
     ]
    },
    {
     "name": "stderr",
     "output_type": "stream",
     "text": [
      "/anaconda3/lib/python3.7/site-packages/ipykernel_launcher.py:8: DeprecationWarning: Call to deprecated `wv` (Attribute will be removed in 4.0.0, use self instead).\n",
      "  \n"
     ]
    },
    {
     "data": {
      "text/plain": [
       "(843, 300)"
      ]
     },
     "execution_count": 47,
     "metadata": {},
     "output_type": "execute_result"
    }
   ],
   "source": [
    "#do the same with test data\n",
    "testDataVecs = getAvgFeatureVecs(X_test, model, num_features)\n",
    "testDataVecs_glove = getAvgFeatureVecs(X_test, glove_model, num_features)\n",
    "\n",
    "testDataVecs = np.nan_to_num(testDataVecs)\n",
    "testDataVecs_glove = np.nan_to_num(testDataVecs_glove)\n",
    "\n",
    "testDataVecs.shape"
   ]
  },
  {
   "cell_type": "code",
   "execution_count": 48,
   "metadata": {},
   "outputs": [],
   "source": [
    "X_test_w2v = pd.DataFrame(data=testDataVecs)\n",
    "X_test_w2v_glove = pd.DataFrame(data=testDataVecs_glove)\n",
    "#X_test = pd.concat([X_test,X_test_numerical],axis=1, join='inner')\n"
   ]
  },
  {
   "cell_type": "code",
   "execution_count": 81,
   "metadata": {},
   "outputs": [
    {
     "data": {
      "text/plain": [
       "SGDClassifier(alpha=0.0001, average=False, class_weight=None,\n",
       "              early_stopping=False, epsilon=0.1, eta0=0.0, fit_intercept=True,\n",
       "              l1_ratio=0.15, learning_rate='optimal', loss='hinge',\n",
       "              max_iter=1000, n_iter_no_change=80, n_jobs=None, penalty='l1',\n",
       "              power_t=0.5, random_state=123, shuffle=True, tol=0.001,\n",
       "              validation_fraction=0.1, verbose=0, warm_start=False)"
      ]
     },
     "execution_count": 81,
     "metadata": {},
     "output_type": "execute_result"
    }
   ],
   "source": [
    "#custom_cv = cver(sco, lem, folds, seed)\n",
    "svm = SGDClassifier(shuffle = True,n_iter_no_change = 80, random_state = seed,alpha = 0.0001,loss=\"hinge\",penalty=\"l1\")\n",
    "svm_glove = SGDClassifier(shuffle = True,n_iter_no_change = 80, random_state = seed,alpha = 0.0001,loss=\"hinge\",penalty=\"l1\")\n",
    "\n",
    "#piper.fit(X_train,y_train)\n",
    "svm.fit(X_train_w2v,y_train)\n",
    "svm_glove.fit(X_train_w2v_glove,y_train)"
   ]
  },
  {
   "cell_type": "code",
   "execution_count": 82,
   "metadata": {},
   "outputs": [
    {
     "data": {
      "text/html": [
       "<div>\n",
       "<style scoped>\n",
       "    .dataframe tbody tr th:only-of-type {\n",
       "        vertical-align: middle;\n",
       "    }\n",
       "\n",
       "    .dataframe tbody tr th {\n",
       "        vertical-align: top;\n",
       "    }\n",
       "\n",
       "    .dataframe thead th {\n",
       "        text-align: right;\n",
       "    }\n",
       "</style>\n",
       "<table border=\"1\" class=\"dataframe\">\n",
       "  <thead>\n",
       "    <tr style=\"text-align: right;\">\n",
       "      <th></th>\n",
       "      <th>pred_w2v_own</th>\n",
       "      <th>pred_w2v_glove</th>\n",
       "      <th>true</th>\n",
       "    </tr>\n",
       "  </thead>\n",
       "  <tbody>\n",
       "    <tr>\n",
       "      <th>0</th>\n",
       "      <td>label_positive</td>\n",
       "      <td>label_positive</td>\n",
       "      <td>label_positive</td>\n",
       "    </tr>\n",
       "    <tr>\n",
       "      <th>1</th>\n",
       "      <td>label_neutral</td>\n",
       "      <td>label_neutral</td>\n",
       "      <td>label_neutral</td>\n",
       "    </tr>\n",
       "    <tr>\n",
       "      <th>2</th>\n",
       "      <td>label_neutral</td>\n",
       "      <td>label_neutral</td>\n",
       "      <td>label_positive</td>\n",
       "    </tr>\n",
       "    <tr>\n",
       "      <th>3</th>\n",
       "      <td>label_neutral</td>\n",
       "      <td>label_neutral</td>\n",
       "      <td>label_neutral</td>\n",
       "    </tr>\n",
       "    <tr>\n",
       "      <th>4</th>\n",
       "      <td>label_neutral</td>\n",
       "      <td>label_neutral</td>\n",
       "      <td>label_neutral</td>\n",
       "    </tr>\n",
       "  </tbody>\n",
       "</table>\n",
       "</div>"
      ],
      "text/plain": [
       "     pred_w2v_own  pred_w2v_glove            true\n",
       "0  label_positive  label_positive  label_positive\n",
       "1   label_neutral   label_neutral   label_neutral\n",
       "2   label_neutral   label_neutral  label_positive\n",
       "3   label_neutral   label_neutral   label_neutral\n",
       "4   label_neutral   label_neutral   label_neutral"
      ]
     },
     "execution_count": 82,
     "metadata": {},
     "output_type": "execute_result"
    }
   ],
   "source": [
    "results_w2v = pd.DataFrame()\n",
    "results_w2v[\"pred_w2v_own\"] = svm.predict(X_test_w2v)\n",
    "results_w2v[\"pred_w2v_glove\"] = svm_glove.predict(X_test_w2v_glove)\n",
    "\n",
    "results_w2v[\"true\"] = y_test.reset_index(drop=True)\n",
    "results_w2v[\"pred_w2v_own\"] = results_w2v[\"pred_w2v_own\"].apply(convert_pred_baseline)\n",
    "results_w2v[\"pred_w2v_glove\"] = results_w2v[\"pred_w2v_glove\"].apply(convert_pred_baseline)\n",
    "\n",
    "results_w2v[\"true\"] = results_w2v[\"true\"].apply(convert_pred_baseline)\n",
    "results_w2v.head()"
   ]
  },
  {
   "cell_type": "markdown",
   "metadata": {},
   "source": [
    "## Doc2Vec"
   ]
  },
  {
   "cell_type": "code",
   "execution_count": 51,
   "metadata": {},
   "outputs": [],
   "source": [
    "def label_sentences(corpus, label_type):\n",
    "    \"\"\"\n",
    "    Gensim's Doc2Vec implementation requires each document/paragraph to have a label associated with it.\n",
    "    We do this by using the TaggedDocument method. The format will be \"TRAIN_i\" or \"TEST_i\" where \"i\" is\n",
    "    a dummy index of the post.\n",
    "    \"\"\"\n",
    "    labeled = []\n",
    "    for i, v in enumerate(corpus):\n",
    "        label = label_type + '_' + str(i)\n",
    "        labeled.append(doc2vec.TaggedDocument(v.split(), [label]))\n",
    "    return labeled\n",
    "#X_train, X_test, y_train, y_test = train_test_split(df.post, df.tags, random_state=0, test_size=0.3)\n",
    "X_train_d2v = label_sentences(X_train, 'Train')\n",
    "X_test_d2v = label_sentences(X_test, 'Test')\n",
    "all_data = X_train_d2v + X_test_d2v"
   ]
  },
  {
   "cell_type": "code",
   "execution_count": 52,
   "metadata": {},
   "outputs": [
    {
     "name": "stderr",
     "output_type": "stream",
     "text": [
      "100%|██████████| 4211/4211 [00:00<00:00, 860731.68it/s]\n",
      "100%|██████████| 4211/4211 [00:00<00:00, 1262578.75it/s]\n",
      "100%|██████████| 4211/4211 [00:00<00:00, 1476033.27it/s]\n",
      "100%|██████████| 4211/4211 [00:00<00:00, 1407011.40it/s]\n",
      "100%|██████████| 4211/4211 [00:00<00:00, 1389412.69it/s]\n",
      "100%|██████████| 4211/4211 [00:00<00:00, 1253617.30it/s]\n",
      "100%|██████████| 4211/4211 [00:00<00:00, 1432226.25it/s]\n",
      "100%|██████████| 4211/4211 [00:00<00:00, 1433155.97it/s]\n",
      "100%|██████████| 4211/4211 [00:00<00:00, 1259248.12it/s]\n",
      "100%|██████████| 4211/4211 [00:00<00:00, 1488472.45it/s]\n",
      "100%|██████████| 4211/4211 [00:00<00:00, 1360620.46it/s]\n",
      "100%|██████████| 4211/4211 [00:00<00:00, 1380723.43it/s]\n",
      "100%|██████████| 4211/4211 [00:00<00:00, 1543629.97it/s]\n",
      "100%|██████████| 4211/4211 [00:00<00:00, 339462.12it/s]\n",
      "100%|██████████| 4211/4211 [00:00<00:00, 1261947.28it/s]\n",
      "100%|██████████| 4211/4211 [00:00<00:00, 1026097.38it/s]\n",
      "100%|██████████| 4211/4211 [00:00<00:00, 1393908.46it/s]\n",
      "100%|██████████| 4211/4211 [00:00<00:00, 1334306.42it/s]\n",
      "100%|██████████| 4211/4211 [00:00<00:00, 1486968.69it/s]\n",
      "100%|██████████| 4211/4211 [00:00<00:00, 1510365.50it/s]\n",
      "100%|██████████| 4211/4211 [00:00<00:00, 1143999.88it/s]\n",
      "100%|██████████| 4211/4211 [00:00<00:00, 1451052.76it/s]\n",
      "100%|██████████| 4211/4211 [00:00<00:00, 1069853.66it/s]\n",
      "100%|██████████| 4211/4211 [00:00<00:00, 1387993.25it/s]\n",
      "100%|██████████| 4211/4211 [00:00<00:00, 1019111.08it/s]\n",
      "100%|██████████| 4211/4211 [00:00<00:00, 942487.41it/s]\n",
      "100%|██████████| 4211/4211 [00:00<00:00, 1360515.65it/s]\n",
      "100%|██████████| 4211/4211 [00:00<00:00, 910517.28it/s]\n",
      "100%|██████████| 4211/4211 [00:00<00:00, 1451649.06it/s]\n",
      "100%|██████████| 4211/4211 [00:00<00:00, 899389.66it/s]\n",
      "100%|██████████| 4211/4211 [00:00<00:00, 1382344.38it/s]\n"
     ]
    }
   ],
   "source": [
    "model_dbow = Doc2Vec(dm=0, vector_size=300, negative=5, min_count=1, alpha=0.065, min_alpha=0.065)\n",
    "model_dbow.build_vocab([x for x in tqdm(all_data)])\n",
    "\n",
    "for epoch in range(30):\n",
    "    model_dbow.train(utils.shuffle([x for x in tqdm(all_data)]), total_examples=len(all_data), epochs=1)\n",
    "    model_dbow.alpha -= 0.002\n",
    "    model_dbow.min_alpha = model_dbow.alpha"
   ]
  },
  {
   "cell_type": "code",
   "execution_count": 53,
   "metadata": {},
   "outputs": [],
   "source": [
    "def get_vectors(model, corpus_size, vectors_size, vectors_type):\n",
    "    \"\"\"\n",
    "    Get vectors from trained doc2vec model\n",
    "    :param doc2vec_model: Trained Doc2Vec model\n",
    "    :param corpus_size: Size of the data\n",
    "    :param vectors_size: Size of the embedding vectors\n",
    "    :param vectors_type: Training or Testing vectors\n",
    "    :return: list of vectors\n",
    "    \"\"\"\n",
    "    vectors = np.zeros((corpus_size, vectors_size))\n",
    "    for i in range(0, corpus_size):\n",
    "        prefix = vectors_type + '_' + str(i)\n",
    "        vectors[i] = model.docvecs[prefix]\n",
    "    return vectors\n",
    "    \n",
    "train_vectors_dbow = get_vectors(model_dbow, len(X_train_d2v), 300, 'Train')\n",
    "test_vectors_dbow = get_vectors(model_dbow, len(X_test_d2v), 300, 'Test')"
   ]
  },
  {
   "cell_type": "code",
   "execution_count": 54,
   "metadata": {},
   "outputs": [
    {
     "data": {
      "text/html": [
       "<div>\n",
       "<style scoped>\n",
       "    .dataframe tbody tr th:only-of-type {\n",
       "        vertical-align: middle;\n",
       "    }\n",
       "\n",
       "    .dataframe tbody tr th {\n",
       "        vertical-align: top;\n",
       "    }\n",
       "\n",
       "    .dataframe thead th {\n",
       "        text-align: right;\n",
       "    }\n",
       "</style>\n",
       "<table border=\"1\" class=\"dataframe\">\n",
       "  <thead>\n",
       "    <tr style=\"text-align: right;\">\n",
       "      <th></th>\n",
       "      <th>0</th>\n",
       "      <th>1</th>\n",
       "      <th>2</th>\n",
       "      <th>3</th>\n",
       "      <th>4</th>\n",
       "      <th>5</th>\n",
       "      <th>6</th>\n",
       "      <th>7</th>\n",
       "      <th>8</th>\n",
       "      <th>9</th>\n",
       "      <th>...</th>\n",
       "      <th>290</th>\n",
       "      <th>291</th>\n",
       "      <th>292</th>\n",
       "      <th>293</th>\n",
       "      <th>294</th>\n",
       "      <th>295</th>\n",
       "      <th>296</th>\n",
       "      <th>297</th>\n",
       "      <th>298</th>\n",
       "      <th>299</th>\n",
       "    </tr>\n",
       "  </thead>\n",
       "  <tbody>\n",
       "    <tr>\n",
       "      <th>0</th>\n",
       "      <td>0.243082</td>\n",
       "      <td>-0.421254</td>\n",
       "      <td>-0.067798</td>\n",
       "      <td>-0.110481</td>\n",
       "      <td>0.194296</td>\n",
       "      <td>-0.209069</td>\n",
       "      <td>-0.234118</td>\n",
       "      <td>0.184241</td>\n",
       "      <td>-0.117071</td>\n",
       "      <td>0.015671</td>\n",
       "      <td>...</td>\n",
       "      <td>0.022343</td>\n",
       "      <td>0.327679</td>\n",
       "      <td>-0.403393</td>\n",
       "      <td>0.404417</td>\n",
       "      <td>0.433759</td>\n",
       "      <td>-0.282238</td>\n",
       "      <td>0.147642</td>\n",
       "      <td>-0.008491</td>\n",
       "      <td>-0.162306</td>\n",
       "      <td>0.105426</td>\n",
       "    </tr>\n",
       "    <tr>\n",
       "      <th>1</th>\n",
       "      <td>0.317659</td>\n",
       "      <td>-0.107203</td>\n",
       "      <td>0.053742</td>\n",
       "      <td>0.213807</td>\n",
       "      <td>0.258256</td>\n",
       "      <td>-0.187761</td>\n",
       "      <td>-0.094771</td>\n",
       "      <td>-0.182280</td>\n",
       "      <td>-0.176917</td>\n",
       "      <td>0.036509</td>\n",
       "      <td>...</td>\n",
       "      <td>-0.078412</td>\n",
       "      <td>0.167401</td>\n",
       "      <td>-0.084214</td>\n",
       "      <td>-0.052379</td>\n",
       "      <td>0.370879</td>\n",
       "      <td>-0.111764</td>\n",
       "      <td>0.020926</td>\n",
       "      <td>-0.028112</td>\n",
       "      <td>-0.174081</td>\n",
       "      <td>0.235861</td>\n",
       "    </tr>\n",
       "    <tr>\n",
       "      <th>2</th>\n",
       "      <td>-0.299932</td>\n",
       "      <td>-0.036695</td>\n",
       "      <td>0.224704</td>\n",
       "      <td>-0.100787</td>\n",
       "      <td>-0.132268</td>\n",
       "      <td>0.202017</td>\n",
       "      <td>0.200817</td>\n",
       "      <td>0.072818</td>\n",
       "      <td>-0.090776</td>\n",
       "      <td>0.322539</td>\n",
       "      <td>...</td>\n",
       "      <td>0.265632</td>\n",
       "      <td>-0.175065</td>\n",
       "      <td>0.149694</td>\n",
       "      <td>-0.074967</td>\n",
       "      <td>0.237952</td>\n",
       "      <td>0.286718</td>\n",
       "      <td>-0.168106</td>\n",
       "      <td>0.150708</td>\n",
       "      <td>-0.076198</td>\n",
       "      <td>0.298361</td>\n",
       "    </tr>\n",
       "    <tr>\n",
       "      <th>3</th>\n",
       "      <td>0.512408</td>\n",
       "      <td>0.036439</td>\n",
       "      <td>0.352123</td>\n",
       "      <td>0.280292</td>\n",
       "      <td>0.305407</td>\n",
       "      <td>0.205296</td>\n",
       "      <td>-0.043635</td>\n",
       "      <td>-0.115380</td>\n",
       "      <td>0.009875</td>\n",
       "      <td>0.219029</td>\n",
       "      <td>...</td>\n",
       "      <td>0.271719</td>\n",
       "      <td>0.405511</td>\n",
       "      <td>-0.292711</td>\n",
       "      <td>0.251189</td>\n",
       "      <td>0.612658</td>\n",
       "      <td>-0.073128</td>\n",
       "      <td>0.195466</td>\n",
       "      <td>-0.044913</td>\n",
       "      <td>-0.189303</td>\n",
       "      <td>0.102822</td>\n",
       "    </tr>\n",
       "    <tr>\n",
       "      <th>4</th>\n",
       "      <td>0.083875</td>\n",
       "      <td>0.061113</td>\n",
       "      <td>0.080137</td>\n",
       "      <td>-0.005720</td>\n",
       "      <td>0.176214</td>\n",
       "      <td>-0.187517</td>\n",
       "      <td>-0.030740</td>\n",
       "      <td>0.012875</td>\n",
       "      <td>0.069211</td>\n",
       "      <td>0.116317</td>\n",
       "      <td>...</td>\n",
       "      <td>0.149453</td>\n",
       "      <td>0.187273</td>\n",
       "      <td>-0.455249</td>\n",
       "      <td>0.041144</td>\n",
       "      <td>0.275725</td>\n",
       "      <td>-0.135241</td>\n",
       "      <td>0.086151</td>\n",
       "      <td>0.057591</td>\n",
       "      <td>0.004610</td>\n",
       "      <td>0.286321</td>\n",
       "    </tr>\n",
       "  </tbody>\n",
       "</table>\n",
       "<p>5 rows × 300 columns</p>\n",
       "</div>"
      ],
      "text/plain": [
       "        0         1         2         3         4         5         6    \\\n",
       "0  0.243082 -0.421254 -0.067798 -0.110481  0.194296 -0.209069 -0.234118   \n",
       "1  0.317659 -0.107203  0.053742  0.213807  0.258256 -0.187761 -0.094771   \n",
       "2 -0.299932 -0.036695  0.224704 -0.100787 -0.132268  0.202017  0.200817   \n",
       "3  0.512408  0.036439  0.352123  0.280292  0.305407  0.205296 -0.043635   \n",
       "4  0.083875  0.061113  0.080137 -0.005720  0.176214 -0.187517 -0.030740   \n",
       "\n",
       "        7         8         9      ...          290       291       292  \\\n",
       "0  0.184241 -0.117071  0.015671    ...     0.022343  0.327679 -0.403393   \n",
       "1 -0.182280 -0.176917  0.036509    ...    -0.078412  0.167401 -0.084214   \n",
       "2  0.072818 -0.090776  0.322539    ...     0.265632 -0.175065  0.149694   \n",
       "3 -0.115380  0.009875  0.219029    ...     0.271719  0.405511 -0.292711   \n",
       "4  0.012875  0.069211  0.116317    ...     0.149453  0.187273 -0.455249   \n",
       "\n",
       "        293       294       295       296       297       298       299  \n",
       "0  0.404417  0.433759 -0.282238  0.147642 -0.008491 -0.162306  0.105426  \n",
       "1 -0.052379  0.370879 -0.111764  0.020926 -0.028112 -0.174081  0.235861  \n",
       "2 -0.074967  0.237952  0.286718 -0.168106  0.150708 -0.076198  0.298361  \n",
       "3  0.251189  0.612658 -0.073128  0.195466 -0.044913 -0.189303  0.102822  \n",
       "4  0.041144  0.275725 -0.135241  0.086151  0.057591  0.004610  0.286321  \n",
       "\n",
       "[5 rows x 300 columns]"
      ]
     },
     "execution_count": 54,
     "metadata": {},
     "output_type": "execute_result"
    }
   ],
   "source": [
    "X_train_d2v = pd.DataFrame(data=train_vectors_dbow)\n",
    "#X_train = pd.concat([X_train,X_train_numerical],axis=1, join='inner')\n",
    "X_train_d2v.head()"
   ]
  },
  {
   "cell_type": "code",
   "execution_count": 55,
   "metadata": {},
   "outputs": [
    {
     "data": {
      "text/html": [
       "<div>\n",
       "<style scoped>\n",
       "    .dataframe tbody tr th:only-of-type {\n",
       "        vertical-align: middle;\n",
       "    }\n",
       "\n",
       "    .dataframe tbody tr th {\n",
       "        vertical-align: top;\n",
       "    }\n",
       "\n",
       "    .dataframe thead th {\n",
       "        text-align: right;\n",
       "    }\n",
       "</style>\n",
       "<table border=\"1\" class=\"dataframe\">\n",
       "  <thead>\n",
       "    <tr style=\"text-align: right;\">\n",
       "      <th></th>\n",
       "      <th>0</th>\n",
       "      <th>1</th>\n",
       "      <th>2</th>\n",
       "      <th>3</th>\n",
       "      <th>4</th>\n",
       "      <th>5</th>\n",
       "      <th>6</th>\n",
       "      <th>7</th>\n",
       "      <th>8</th>\n",
       "      <th>9</th>\n",
       "      <th>...</th>\n",
       "      <th>290</th>\n",
       "      <th>291</th>\n",
       "      <th>292</th>\n",
       "      <th>293</th>\n",
       "      <th>294</th>\n",
       "      <th>295</th>\n",
       "      <th>296</th>\n",
       "      <th>297</th>\n",
       "      <th>298</th>\n",
       "      <th>299</th>\n",
       "    </tr>\n",
       "  </thead>\n",
       "  <tbody>\n",
       "    <tr>\n",
       "      <th>0</th>\n",
       "      <td>-0.219143</td>\n",
       "      <td>-0.099192</td>\n",
       "      <td>0.558957</td>\n",
       "      <td>-0.132858</td>\n",
       "      <td>0.183631</td>\n",
       "      <td>0.043060</td>\n",
       "      <td>-0.080365</td>\n",
       "      <td>0.098725</td>\n",
       "      <td>0.089734</td>\n",
       "      <td>0.433989</td>\n",
       "      <td>...</td>\n",
       "      <td>-0.242654</td>\n",
       "      <td>0.010953</td>\n",
       "      <td>-0.175703</td>\n",
       "      <td>0.155319</td>\n",
       "      <td>0.331119</td>\n",
       "      <td>-0.211234</td>\n",
       "      <td>0.292069</td>\n",
       "      <td>-0.021032</td>\n",
       "      <td>-0.265379</td>\n",
       "      <td>0.097313</td>\n",
       "    </tr>\n",
       "    <tr>\n",
       "      <th>1</th>\n",
       "      <td>-0.115966</td>\n",
       "      <td>0.050153</td>\n",
       "      <td>0.168570</td>\n",
       "      <td>0.175354</td>\n",
       "      <td>0.191160</td>\n",
       "      <td>0.102492</td>\n",
       "      <td>-0.007756</td>\n",
       "      <td>0.028739</td>\n",
       "      <td>0.126345</td>\n",
       "      <td>0.088848</td>\n",
       "      <td>...</td>\n",
       "      <td>-0.194492</td>\n",
       "      <td>0.183283</td>\n",
       "      <td>-0.163729</td>\n",
       "      <td>-0.065686</td>\n",
       "      <td>0.278223</td>\n",
       "      <td>-0.198527</td>\n",
       "      <td>0.267568</td>\n",
       "      <td>0.007334</td>\n",
       "      <td>-0.218901</td>\n",
       "      <td>0.095649</td>\n",
       "    </tr>\n",
       "    <tr>\n",
       "      <th>2</th>\n",
       "      <td>0.131773</td>\n",
       "      <td>-0.158197</td>\n",
       "      <td>0.117192</td>\n",
       "      <td>0.054820</td>\n",
       "      <td>-0.057460</td>\n",
       "      <td>-0.002138</td>\n",
       "      <td>-0.005107</td>\n",
       "      <td>-0.153495</td>\n",
       "      <td>0.110613</td>\n",
       "      <td>0.052046</td>\n",
       "      <td>...</td>\n",
       "      <td>-0.222214</td>\n",
       "      <td>-0.086999</td>\n",
       "      <td>-0.151201</td>\n",
       "      <td>0.067929</td>\n",
       "      <td>0.034083</td>\n",
       "      <td>-0.208276</td>\n",
       "      <td>0.055694</td>\n",
       "      <td>0.010715</td>\n",
       "      <td>-0.076389</td>\n",
       "      <td>0.365852</td>\n",
       "    </tr>\n",
       "    <tr>\n",
       "      <th>3</th>\n",
       "      <td>-0.182523</td>\n",
       "      <td>-0.146949</td>\n",
       "      <td>0.457299</td>\n",
       "      <td>-0.067236</td>\n",
       "      <td>-0.087892</td>\n",
       "      <td>0.105467</td>\n",
       "      <td>-0.108653</td>\n",
       "      <td>-0.248864</td>\n",
       "      <td>-0.027457</td>\n",
       "      <td>0.058502</td>\n",
       "      <td>...</td>\n",
       "      <td>-0.338691</td>\n",
       "      <td>0.087183</td>\n",
       "      <td>-0.280339</td>\n",
       "      <td>-0.051394</td>\n",
       "      <td>0.316738</td>\n",
       "      <td>-0.232884</td>\n",
       "      <td>0.007797</td>\n",
       "      <td>-0.013439</td>\n",
       "      <td>-0.038338</td>\n",
       "      <td>0.228558</td>\n",
       "    </tr>\n",
       "    <tr>\n",
       "      <th>4</th>\n",
       "      <td>0.089113</td>\n",
       "      <td>-0.127911</td>\n",
       "      <td>0.062086</td>\n",
       "      <td>0.440788</td>\n",
       "      <td>0.357802</td>\n",
       "      <td>-0.028190</td>\n",
       "      <td>-0.199707</td>\n",
       "      <td>-0.209402</td>\n",
       "      <td>-0.137321</td>\n",
       "      <td>-0.054873</td>\n",
       "      <td>...</td>\n",
       "      <td>0.089276</td>\n",
       "      <td>-0.039971</td>\n",
       "      <td>0.033985</td>\n",
       "      <td>0.112881</td>\n",
       "      <td>0.364361</td>\n",
       "      <td>0.063297</td>\n",
       "      <td>0.200482</td>\n",
       "      <td>0.071475</td>\n",
       "      <td>-0.070431</td>\n",
       "      <td>0.292735</td>\n",
       "    </tr>\n",
       "  </tbody>\n",
       "</table>\n",
       "<p>5 rows × 300 columns</p>\n",
       "</div>"
      ],
      "text/plain": [
       "        0         1         2         3         4         5         6    \\\n",
       "0 -0.219143 -0.099192  0.558957 -0.132858  0.183631  0.043060 -0.080365   \n",
       "1 -0.115966  0.050153  0.168570  0.175354  0.191160  0.102492 -0.007756   \n",
       "2  0.131773 -0.158197  0.117192  0.054820 -0.057460 -0.002138 -0.005107   \n",
       "3 -0.182523 -0.146949  0.457299 -0.067236 -0.087892  0.105467 -0.108653   \n",
       "4  0.089113 -0.127911  0.062086  0.440788  0.357802 -0.028190 -0.199707   \n",
       "\n",
       "        7         8         9      ...          290       291       292  \\\n",
       "0  0.098725  0.089734  0.433989    ...    -0.242654  0.010953 -0.175703   \n",
       "1  0.028739  0.126345  0.088848    ...    -0.194492  0.183283 -0.163729   \n",
       "2 -0.153495  0.110613  0.052046    ...    -0.222214 -0.086999 -0.151201   \n",
       "3 -0.248864 -0.027457  0.058502    ...    -0.338691  0.087183 -0.280339   \n",
       "4 -0.209402 -0.137321 -0.054873    ...     0.089276 -0.039971  0.033985   \n",
       "\n",
       "        293       294       295       296       297       298       299  \n",
       "0  0.155319  0.331119 -0.211234  0.292069 -0.021032 -0.265379  0.097313  \n",
       "1 -0.065686  0.278223 -0.198527  0.267568  0.007334 -0.218901  0.095649  \n",
       "2  0.067929  0.034083 -0.208276  0.055694  0.010715 -0.076389  0.365852  \n",
       "3 -0.051394  0.316738 -0.232884  0.007797 -0.013439 -0.038338  0.228558  \n",
       "4  0.112881  0.364361  0.063297  0.200482  0.071475 -0.070431  0.292735  \n",
       "\n",
       "[5 rows x 300 columns]"
      ]
     },
     "execution_count": 55,
     "metadata": {},
     "output_type": "execute_result"
    }
   ],
   "source": [
    "X_test_d2v = pd.DataFrame(data=test_vectors_dbow)\n",
    "#X_test_d2v = pd.concat([X_test,X_test_numerical],axis=1, join='inner')\n",
    "X_test_d2v.head()"
   ]
  },
  {
   "cell_type": "code",
   "execution_count": 56,
   "metadata": {},
   "outputs": [
    {
     "data": {
      "text/plain": [
       "SGDClassifier(alpha=0.0001, average=False, class_weight=None,\n",
       "              early_stopping=False, epsilon=0.1, eta0=0.0, fit_intercept=True,\n",
       "              l1_ratio=0.15, learning_rate='optimal', loss='hinge',\n",
       "              max_iter=1000, n_iter_no_change=5, n_jobs=None, penalty='l2',\n",
       "              power_t=0.5, random_state=None, shuffle=True, tol=0.001,\n",
       "              validation_fraction=0.1, verbose=0, warm_start=False)"
      ]
     },
     "execution_count": 56,
     "metadata": {},
     "output_type": "execute_result"
    }
   ],
   "source": [
    "#custom_cv = cver(sco, lem, folds, seed)\n",
    "svm = SGDClassifier()#shuffle = True,n_iter_no_change = 80, random_state = seed,alpha = 0.0001,loss=\"hinge\",penalty=\"l1\")\n",
    "\n",
    "#piper.fit(X_train,y_train)\n",
    "svm.fit(X_train_d2v,y_train)"
   ]
  },
  {
   "cell_type": "code",
   "execution_count": 57,
   "metadata": {},
   "outputs": [
    {
     "data": {
      "text/html": [
       "<div>\n",
       "<style scoped>\n",
       "    .dataframe tbody tr th:only-of-type {\n",
       "        vertical-align: middle;\n",
       "    }\n",
       "\n",
       "    .dataframe tbody tr th {\n",
       "        vertical-align: top;\n",
       "    }\n",
       "\n",
       "    .dataframe thead th {\n",
       "        text-align: right;\n",
       "    }\n",
       "</style>\n",
       "<table border=\"1\" class=\"dataframe\">\n",
       "  <thead>\n",
       "    <tr style=\"text-align: right;\">\n",
       "      <th></th>\n",
       "      <th>pred</th>\n",
       "      <th>true</th>\n",
       "    </tr>\n",
       "  </thead>\n",
       "  <tbody>\n",
       "    <tr>\n",
       "      <th>0</th>\n",
       "      <td>label_positive</td>\n",
       "      <td>label_positive</td>\n",
       "    </tr>\n",
       "    <tr>\n",
       "      <th>1</th>\n",
       "      <td>label_neutral</td>\n",
       "      <td>label_neutral</td>\n",
       "    </tr>\n",
       "    <tr>\n",
       "      <th>2</th>\n",
       "      <td>label_positive</td>\n",
       "      <td>label_positive</td>\n",
       "    </tr>\n",
       "    <tr>\n",
       "      <th>3</th>\n",
       "      <td>label_neutral</td>\n",
       "      <td>label_neutral</td>\n",
       "    </tr>\n",
       "    <tr>\n",
       "      <th>4</th>\n",
       "      <td>label_positive</td>\n",
       "      <td>label_neutral</td>\n",
       "    </tr>\n",
       "  </tbody>\n",
       "</table>\n",
       "</div>"
      ],
      "text/plain": [
       "             pred            true\n",
       "0  label_positive  label_positive\n",
       "1   label_neutral   label_neutral\n",
       "2  label_positive  label_positive\n",
       "3   label_neutral   label_neutral\n",
       "4  label_positive   label_neutral"
      ]
     },
     "execution_count": 57,
     "metadata": {},
     "output_type": "execute_result"
    }
   ],
   "source": [
    "results_d2v = pd.DataFrame()\n",
    "results_d2v[\"pred\"] = svm.predict(X_test_d2v)\n",
    "results_d2v[\"true\"] = y_test.reset_index(drop=True)\n",
    "results_d2v[\"pred\"] = results_d2v[\"pred\"].apply(convert_pred_baseline)\n",
    "results_d2v[\"true\"] = results_d2v[\"true\"].apply(convert_pred_baseline)\n",
    "results_d2v.head()"
   ]
  },
  {
   "cell_type": "markdown",
   "metadata": {},
   "source": [
    "# BERT results"
   ]
  },
  {
   "cell_type": "code",
   "execution_count": 34,
   "metadata": {},
   "outputs": [
    {
     "data": {
      "text/html": [
       "<div>\n",
       "<style scoped>\n",
       "    .dataframe tbody tr th:only-of-type {\n",
       "        vertical-align: middle;\n",
       "    }\n",
       "\n",
       "    .dataframe tbody tr th {\n",
       "        vertical-align: top;\n",
       "    }\n",
       "\n",
       "    .dataframe thead th {\n",
       "        text-align: right;\n",
       "    }\n",
       "</style>\n",
       "<table border=\"1\" class=\"dataframe\">\n",
       "  <thead>\n",
       "    <tr style=\"text-align: right;\">\n",
       "      <th></th>\n",
       "      <th>Unnamed: 0</th>\n",
       "      <th>sentence</th>\n",
       "      <th>pred</th>\n",
       "      <th>pred_proba</th>\n",
       "      <th>true</th>\n",
       "    </tr>\n",
       "  </thead>\n",
       "  <tbody>\n",
       "    <tr>\n",
       "      <th>0</th>\n",
       "      <td>96</td>\n",
       "      <td>In the fourth quarter of 2008 , net sales incr...</td>\n",
       "      <td>[0.0, 0.0, 1.0]</td>\n",
       "      <td>[0.002733720000833273, 0.002224597381427884, 0...</td>\n",
       "      <td>label_positive</td>\n",
       "    </tr>\n",
       "    <tr>\n",
       "      <th>1</th>\n",
       "      <td>3305</td>\n",
       "      <td>The contract value amounts to EUR 2.4 million</td>\n",
       "      <td>[0.0, 1.0, 0.0]</td>\n",
       "      <td>[0.0025848401710391045, 0.9988908171653748, 0....</td>\n",
       "      <td>label_neutral</td>\n",
       "    </tr>\n",
       "    <tr>\n",
       "      <th>2</th>\n",
       "      <td>811</td>\n",
       "      <td>`` Demand for sports equipment was good in 2005</td>\n",
       "      <td>[0.0, 0.0, 1.0]</td>\n",
       "      <td>[0.002682211110368371, 0.002095094183459878, 0...</td>\n",
       "      <td>label_positive</td>\n",
       "    </tr>\n",
       "    <tr>\n",
       "      <th>3</th>\n",
       "      <td>463</td>\n",
       "      <td>Tielinja generated net sales of 7.5 mln euro $...</td>\n",
       "      <td>[0.0, 1.0, 0.0]</td>\n",
       "      <td>[0.0018911130027845502, 0.9987913966178894, 0....</td>\n",
       "      <td>label_neutral</td>\n",
       "    </tr>\n",
       "    <tr>\n",
       "      <th>4</th>\n",
       "      <td>2303</td>\n",
       "      <td>` Nordic infrastructure construction is one of...</td>\n",
       "      <td>[0.0, 0.0, 1.0]</td>\n",
       "      <td>[0.00022562105732504278, 0.29716378450393677, ...</td>\n",
       "      <td>label_neutral</td>\n",
       "    </tr>\n",
       "  </tbody>\n",
       "</table>\n",
       "</div>"
      ],
      "text/plain": [
       "   Unnamed: 0                                           sentence  \\\n",
       "0          96  In the fourth quarter of 2008 , net sales incr...   \n",
       "1        3305     The contract value amounts to EUR 2.4 million    \n",
       "2         811   `` Demand for sports equipment was good in 2005    \n",
       "3         463  Tielinja generated net sales of 7.5 mln euro $...   \n",
       "4        2303  ` Nordic infrastructure construction is one of...   \n",
       "\n",
       "              pred                                         pred_proba  \\\n",
       "0  [0.0, 0.0, 1.0]  [0.002733720000833273, 0.002224597381427884, 0...   \n",
       "1  [0.0, 1.0, 0.0]  [0.0025848401710391045, 0.9988908171653748, 0....   \n",
       "2  [0.0, 0.0, 1.0]  [0.002682211110368371, 0.002095094183459878, 0...   \n",
       "3  [0.0, 1.0, 0.0]  [0.0018911130027845502, 0.9987913966178894, 0....   \n",
       "4  [0.0, 0.0, 1.0]  [0.00022562105732504278, 0.29716378450393677, ...   \n",
       "\n",
       "             true  \n",
       "0  label_positive  \n",
       "1   label_neutral  \n",
       "2  label_positive  \n",
       "3   label_neutral  \n",
       "4   label_neutral  "
      ]
     },
     "execution_count": 34,
     "metadata": {},
     "output_type": "execute_result"
    }
   ],
   "source": [
    "results = pd.read_csv(\"/Users/manueltonneau/Documents/Humboldt/Second semester/Master thesis/results/test_malo_sentence_classification_bert.csv\")\n",
    "results.head()"
   ]
  },
  {
   "cell_type": "code",
   "execution_count": 35,
   "metadata": {},
   "outputs": [
    {
     "data": {
      "text/html": [
       "<div>\n",
       "<style scoped>\n",
       "    .dataframe tbody tr th:only-of-type {\n",
       "        vertical-align: middle;\n",
       "    }\n",
       "\n",
       "    .dataframe tbody tr th {\n",
       "        vertical-align: top;\n",
       "    }\n",
       "\n",
       "    .dataframe thead th {\n",
       "        text-align: right;\n",
       "    }\n",
       "</style>\n",
       "<table border=\"1\" class=\"dataframe\">\n",
       "  <thead>\n",
       "    <tr style=\"text-align: right;\">\n",
       "      <th></th>\n",
       "      <th>id</th>\n",
       "      <th>sentence</th>\n",
       "      <th>pred</th>\n",
       "      <th>pred_proba</th>\n",
       "      <th>true</th>\n",
       "    </tr>\n",
       "  </thead>\n",
       "  <tbody>\n",
       "    <tr>\n",
       "      <th>0</th>\n",
       "      <td>96</td>\n",
       "      <td>In the fourth quarter of 2008 , net sales incr...</td>\n",
       "      <td>[0.0, 0.0, 1.0]</td>\n",
       "      <td>[0.002733720000833273, 0.002224597381427884, 0...</td>\n",
       "      <td>label_positive</td>\n",
       "    </tr>\n",
       "    <tr>\n",
       "      <th>1</th>\n",
       "      <td>3305</td>\n",
       "      <td>The contract value amounts to EUR 2.4 million</td>\n",
       "      <td>[0.0, 1.0, 0.0]</td>\n",
       "      <td>[0.0025848401710391045, 0.9988908171653748, 0....</td>\n",
       "      <td>label_neutral</td>\n",
       "    </tr>\n",
       "    <tr>\n",
       "      <th>2</th>\n",
       "      <td>811</td>\n",
       "      <td>`` Demand for sports equipment was good in 2005</td>\n",
       "      <td>[0.0, 0.0, 1.0]</td>\n",
       "      <td>[0.002682211110368371, 0.002095094183459878, 0...</td>\n",
       "      <td>label_positive</td>\n",
       "    </tr>\n",
       "    <tr>\n",
       "      <th>3</th>\n",
       "      <td>463</td>\n",
       "      <td>Tielinja generated net sales of 7.5 mln euro $...</td>\n",
       "      <td>[0.0, 1.0, 0.0]</td>\n",
       "      <td>[0.0018911130027845502, 0.9987913966178894, 0....</td>\n",
       "      <td>label_neutral</td>\n",
       "    </tr>\n",
       "    <tr>\n",
       "      <th>4</th>\n",
       "      <td>2303</td>\n",
       "      <td>` Nordic infrastructure construction is one of...</td>\n",
       "      <td>[0.0, 0.0, 1.0]</td>\n",
       "      <td>[0.00022562105732504278, 0.29716378450393677, ...</td>\n",
       "      <td>label_neutral</td>\n",
       "    </tr>\n",
       "    <tr>\n",
       "      <th>5</th>\n",
       "      <td>2751</td>\n",
       "      <td>The contract includes design , construction , ...</td>\n",
       "      <td>[0.0, 1.0, 0.0]</td>\n",
       "      <td>[0.0018456578254699707, 0.9988092184066772, 0....</td>\n",
       "      <td>label_neutral</td>\n",
       "    </tr>\n",
       "    <tr>\n",
       "      <th>6</th>\n",
       "      <td>2245</td>\n",
       "      <td>The money will be spread mainly over 2011 and ...</td>\n",
       "      <td>[0.0, 1.0, 0.0]</td>\n",
       "      <td>[0.0018325853161513805, 0.9987443685531616, 0....</td>\n",
       "      <td>label_neutral</td>\n",
       "    </tr>\n",
       "    <tr>\n",
       "      <th>7</th>\n",
       "      <td>862</td>\n",
       "      <td>The company negotiated an amendment to the fin...</td>\n",
       "      <td>[0.0, 1.0, 0.0]</td>\n",
       "      <td>[0.0013752824161201715, 0.9986897110939026, 0....</td>\n",
       "      <td>label_neutral</td>\n",
       "    </tr>\n",
       "    <tr>\n",
       "      <th>8</th>\n",
       "      <td>2827</td>\n",
       "      <td>The number of class A shares remains unchanged...</td>\n",
       "      <td>[0.0, 1.0, 0.0]</td>\n",
       "      <td>[0.0012832357315346599, 0.998754620552063, 0.0...</td>\n",
       "      <td>label_neutral</td>\n",
       "    </tr>\n",
       "    <tr>\n",
       "      <th>9</th>\n",
       "      <td>3025</td>\n",
       "      <td>After the sale , Outokumpu 's share of the tec...</td>\n",
       "      <td>[0.0, 1.0, 0.0]</td>\n",
       "      <td>[0.002444295911118388, 0.9983956217765808, 0.0...</td>\n",
       "      <td>label_neutral</td>\n",
       "    </tr>\n",
       "    <tr>\n",
       "      <th>10</th>\n",
       "      <td>897</td>\n",
       "      <td>An additional amount , capped at EUR12m , is p...</td>\n",
       "      <td>[0.0, 1.0, 0.0]</td>\n",
       "      <td>[0.000781485578045249, 0.9978132247924805, 0.0...</td>\n",
       "      <td>label_neutral</td>\n",
       "    </tr>\n",
       "    <tr>\n",
       "      <th>11</th>\n",
       "      <td>1138</td>\n",
       "      <td>The broker started UPM-Kymmene , Stora Enso an...</td>\n",
       "      <td>[0.0, 1.0, 0.0]</td>\n",
       "      <td>[0.0017238246509805322, 0.9987396597862244, 0....</td>\n",
       "      <td>label_neutral</td>\n",
       "    </tr>\n",
       "    <tr>\n",
       "      <th>12</th>\n",
       "      <td>3922</td>\n",
       "      <td>To ensure low operational cost for radio netwo...</td>\n",
       "      <td>[0.0, 1.0, 0.0]</td>\n",
       "      <td>[0.0013975371839478612, 0.9987723231315613, 0....</td>\n",
       "      <td>label_positive</td>\n",
       "    </tr>\n",
       "    <tr>\n",
       "      <th>13</th>\n",
       "      <td>1221</td>\n",
       "      <td>Utah 's capital wanted to be the next U.S. hea...</td>\n",
       "      <td>[0.0, 1.0, 0.0]</td>\n",
       "      <td>[0.0012302786344662309, 0.9986348748207092, 0....</td>\n",
       "      <td>label_neutral</td>\n",
       "    </tr>\n",
       "    <tr>\n",
       "      <th>14</th>\n",
       "      <td>3613</td>\n",
       "      <td>Finnish M-real 's Kyro mill is starting negoti...</td>\n",
       "      <td>[1.0, 0.0, 0.0]</td>\n",
       "      <td>[0.9970846772193909, 0.008140143938362598, 0.0...</td>\n",
       "      <td>label_negative</td>\n",
       "    </tr>\n",
       "    <tr>\n",
       "      <th>15</th>\n",
       "      <td>691</td>\n",
       "      <td>The acquisition is expected to improve access ...</td>\n",
       "      <td>[0.0, 0.0, 1.0]</td>\n",
       "      <td>[0.0024207779206335545, 0.0023762453347444534,...</td>\n",
       "      <td>label_positive</td>\n",
       "    </tr>\n",
       "    <tr>\n",
       "      <th>16</th>\n",
       "      <td>511</td>\n",
       "      <td>The offer of some 30 million shares aimed to r...</td>\n",
       "      <td>[0.0, 1.0, 0.0]</td>\n",
       "      <td>[0.0017618797719478607, 0.9987130165100098, 0....</td>\n",
       "      <td>label_neutral</td>\n",
       "    </tr>\n",
       "    <tr>\n",
       "      <th>17</th>\n",
       "      <td>2005</td>\n",
       "      <td>All YIT Capital Markets Day materials will be ...</td>\n",
       "      <td>[0.0, 1.0, 0.0]</td>\n",
       "      <td>[0.001351765007711947, 0.9988225102424622, 0.0...</td>\n",
       "      <td>label_neutral</td>\n",
       "    </tr>\n",
       "    <tr>\n",
       "      <th>18</th>\n",
       "      <td>1703</td>\n",
       "      <td>The item included restructuring costs of EUR1 ...</td>\n",
       "      <td>[0.0, 0.0, 1.0]</td>\n",
       "      <td>[0.002131760586053133, 0.002646116307005286, 0...</td>\n",
       "      <td>label_positive</td>\n",
       "    </tr>\n",
       "    <tr>\n",
       "      <th>19</th>\n",
       "      <td>3352</td>\n",
       "      <td>The markets expect Heineken to sell Hartwall a...</td>\n",
       "      <td>[0.0, 1.0, 0.0]</td>\n",
       "      <td>[0.0005578907439485192, 0.9972196817398071, 0....</td>\n",
       "      <td>label_neutral</td>\n",
       "    </tr>\n",
       "  </tbody>\n",
       "</table>\n",
       "</div>"
      ],
      "text/plain": [
       "      id                                           sentence             pred  \\\n",
       "0     96  In the fourth quarter of 2008 , net sales incr...  [0.0, 0.0, 1.0]   \n",
       "1   3305     The contract value amounts to EUR 2.4 million   [0.0, 1.0, 0.0]   \n",
       "2    811   `` Demand for sports equipment was good in 2005   [0.0, 0.0, 1.0]   \n",
       "3    463  Tielinja generated net sales of 7.5 mln euro $...  [0.0, 1.0, 0.0]   \n",
       "4   2303  ` Nordic infrastructure construction is one of...  [0.0, 0.0, 1.0]   \n",
       "5   2751  The contract includes design , construction , ...  [0.0, 1.0, 0.0]   \n",
       "6   2245  The money will be spread mainly over 2011 and ...  [0.0, 1.0, 0.0]   \n",
       "7    862  The company negotiated an amendment to the fin...  [0.0, 1.0, 0.0]   \n",
       "8   2827  The number of class A shares remains unchanged...  [0.0, 1.0, 0.0]   \n",
       "9   3025  After the sale , Outokumpu 's share of the tec...  [0.0, 1.0, 0.0]   \n",
       "10   897  An additional amount , capped at EUR12m , is p...  [0.0, 1.0, 0.0]   \n",
       "11  1138  The broker started UPM-Kymmene , Stora Enso an...  [0.0, 1.0, 0.0]   \n",
       "12  3922  To ensure low operational cost for radio netwo...  [0.0, 1.0, 0.0]   \n",
       "13  1221  Utah 's capital wanted to be the next U.S. hea...  [0.0, 1.0, 0.0]   \n",
       "14  3613  Finnish M-real 's Kyro mill is starting negoti...  [1.0, 0.0, 0.0]   \n",
       "15   691  The acquisition is expected to improve access ...  [0.0, 0.0, 1.0]   \n",
       "16   511  The offer of some 30 million shares aimed to r...  [0.0, 1.0, 0.0]   \n",
       "17  2005  All YIT Capital Markets Day materials will be ...  [0.0, 1.0, 0.0]   \n",
       "18  1703  The item included restructuring costs of EUR1 ...  [0.0, 0.0, 1.0]   \n",
       "19  3352  The markets expect Heineken to sell Hartwall a...  [0.0, 1.0, 0.0]   \n",
       "\n",
       "                                           pred_proba            true  \n",
       "0   [0.002733720000833273, 0.002224597381427884, 0...  label_positive  \n",
       "1   [0.0025848401710391045, 0.9988908171653748, 0....   label_neutral  \n",
       "2   [0.002682211110368371, 0.002095094183459878, 0...  label_positive  \n",
       "3   [0.0018911130027845502, 0.9987913966178894, 0....   label_neutral  \n",
       "4   [0.00022562105732504278, 0.29716378450393677, ...   label_neutral  \n",
       "5   [0.0018456578254699707, 0.9988092184066772, 0....   label_neutral  \n",
       "6   [0.0018325853161513805, 0.9987443685531616, 0....   label_neutral  \n",
       "7   [0.0013752824161201715, 0.9986897110939026, 0....   label_neutral  \n",
       "8   [0.0012832357315346599, 0.998754620552063, 0.0...   label_neutral  \n",
       "9   [0.002444295911118388, 0.9983956217765808, 0.0...   label_neutral  \n",
       "10  [0.000781485578045249, 0.9978132247924805, 0.0...   label_neutral  \n",
       "11  [0.0017238246509805322, 0.9987396597862244, 0....   label_neutral  \n",
       "12  [0.0013975371839478612, 0.9987723231315613, 0....  label_positive  \n",
       "13  [0.0012302786344662309, 0.9986348748207092, 0....   label_neutral  \n",
       "14  [0.9970846772193909, 0.008140143938362598, 0.0...  label_negative  \n",
       "15  [0.0024207779206335545, 0.0023762453347444534,...  label_positive  \n",
       "16  [0.0017618797719478607, 0.9987130165100098, 0....   label_neutral  \n",
       "17  [0.001351765007711947, 0.9988225102424622, 0.0...   label_neutral  \n",
       "18  [0.002131760586053133, 0.002646116307005286, 0...  label_positive  \n",
       "19  [0.0005578907439485192, 0.9972196817398071, 0....   label_neutral  "
      ]
     },
     "execution_count": 35,
     "metadata": {},
     "output_type": "execute_result"
    }
   ],
   "source": [
    "results.columns = [\"id\",\"sentence\",\"pred\",\"pred_proba\",\"true\"]\n",
    "results.head(n=20)"
   ]
  },
  {
   "cell_type": "code",
   "execution_count": 36,
   "metadata": {},
   "outputs": [],
   "source": [
    "def convert_pred(x):\n",
    "    if x[1] == \"1\":\n",
    "        return \"label_negative\"\n",
    "    elif x[6] == \"1\":\n",
    "        return \"label_neutral\"\n",
    "    elif x[11] == \"1\":\n",
    "        return \"label_positive\"\n",
    "    else: #row 521 and 554\n",
    "        return \"no label\"\n"
   ]
  },
  {
   "cell_type": "code",
   "execution_count": 37,
   "metadata": {},
   "outputs": [],
   "source": [
    "def convert_pred_proba(x):\n",
    "    if x == 0:\n",
    "        return \"label_negative\"\n",
    "    elif x == 1:\n",
    "        return \"label_neutral\"\n",
    "    elif x == 2:\n",
    "        return \"label_positive\"\n",
    "    else: #row 521 and 554\n",
    "        return \"no label\"\n"
   ]
  },
  {
   "cell_type": "code",
   "execution_count": 38,
   "metadata": {},
   "outputs": [],
   "source": [
    "results[\"pred\"] = results[\"pred\"].apply(convert_pred)"
   ]
  },
  {
   "cell_type": "code",
   "execution_count": 39,
   "metadata": {},
   "outputs": [
    {
     "data": {
      "text/html": [
       "<div>\n",
       "<style scoped>\n",
       "    .dataframe tbody tr th:only-of-type {\n",
       "        vertical-align: middle;\n",
       "    }\n",
       "\n",
       "    .dataframe tbody tr th {\n",
       "        vertical-align: top;\n",
       "    }\n",
       "\n",
       "    .dataframe thead th {\n",
       "        text-align: right;\n",
       "    }\n",
       "</style>\n",
       "<table border=\"1\" class=\"dataframe\">\n",
       "  <thead>\n",
       "    <tr style=\"text-align: right;\">\n",
       "      <th></th>\n",
       "      <th>id</th>\n",
       "      <th>sentence</th>\n",
       "      <th>pred</th>\n",
       "      <th>pred_proba</th>\n",
       "      <th>true</th>\n",
       "      <th>sum_proba</th>\n",
       "    </tr>\n",
       "  </thead>\n",
       "  <tbody>\n",
       "    <tr>\n",
       "      <th>0</th>\n",
       "      <td>96</td>\n",
       "      <td>In the fourth quarter of 2008 , net sales incr...</td>\n",
       "      <td>label_positive</td>\n",
       "      <td>2</td>\n",
       "      <td>label_positive</td>\n",
       "      <td>1.003774</td>\n",
       "    </tr>\n",
       "    <tr>\n",
       "      <th>1</th>\n",
       "      <td>3305</td>\n",
       "      <td>The contract value amounts to EUR 2.4 million</td>\n",
       "      <td>label_neutral</td>\n",
       "      <td>1</td>\n",
       "      <td>label_neutral</td>\n",
       "      <td>1.002591</td>\n",
       "    </tr>\n",
       "    <tr>\n",
       "      <th>2</th>\n",
       "      <td>811</td>\n",
       "      <td>`` Demand for sports equipment was good in 2005</td>\n",
       "      <td>label_positive</td>\n",
       "      <td>2</td>\n",
       "      <td>label_positive</td>\n",
       "      <td>1.003398</td>\n",
       "    </tr>\n",
       "    <tr>\n",
       "      <th>3</th>\n",
       "      <td>463</td>\n",
       "      <td>Tielinja generated net sales of 7.5 mln euro $...</td>\n",
       "      <td>label_neutral</td>\n",
       "      <td>1</td>\n",
       "      <td>label_neutral</td>\n",
       "      <td>1.002165</td>\n",
       "    </tr>\n",
       "    <tr>\n",
       "      <th>4</th>\n",
       "      <td>2303</td>\n",
       "      <td>` Nordic infrastructure construction is one of...</td>\n",
       "      <td>label_positive</td>\n",
       "      <td>2</td>\n",
       "      <td>label_neutral</td>\n",
       "      <td>1.139043</td>\n",
       "    </tr>\n",
       "  </tbody>\n",
       "</table>\n",
       "</div>"
      ],
      "text/plain": [
       "     id                                           sentence            pred  \\\n",
       "0    96  In the fourth quarter of 2008 , net sales incr...  label_positive   \n",
       "1  3305     The contract value amounts to EUR 2.4 million    label_neutral   \n",
       "2   811   `` Demand for sports equipment was good in 2005   label_positive   \n",
       "3   463  Tielinja generated net sales of 7.5 mln euro $...   label_neutral   \n",
       "4  2303  ` Nordic infrastructure construction is one of...  label_positive   \n",
       "\n",
       "   pred_proba            true  sum_proba  \n",
       "0           2  label_positive   1.003774  \n",
       "1           1   label_neutral   1.002591  \n",
       "2           2  label_positive   1.003398  \n",
       "3           1   label_neutral   1.002165  \n",
       "4           2   label_neutral   1.139043  "
      ]
     },
     "execution_count": 39,
     "metadata": {},
     "output_type": "execute_result"
    }
   ],
   "source": [
    "results[\"pred_proba\"] = results[\"pred_proba\"].apply(literal_eval)\n",
    "results[\"sum_proba\"] = results[\"pred_proba\"].apply(sum)\n",
    "results[\"pred_proba\"] = results[\"pred_proba\"].apply(np.argmax)\n",
    "results.head()"
   ]
  },
  {
   "cell_type": "code",
   "execution_count": 40,
   "metadata": {},
   "outputs": [
    {
     "data": {
      "text/html": [
       "<div>\n",
       "<style scoped>\n",
       "    .dataframe tbody tr th:only-of-type {\n",
       "        vertical-align: middle;\n",
       "    }\n",
       "\n",
       "    .dataframe tbody tr th {\n",
       "        vertical-align: top;\n",
       "    }\n",
       "\n",
       "    .dataframe thead th {\n",
       "        text-align: right;\n",
       "    }\n",
       "</style>\n",
       "<table border=\"1\" class=\"dataframe\">\n",
       "  <thead>\n",
       "    <tr style=\"text-align: right;\">\n",
       "      <th></th>\n",
       "      <th>id</th>\n",
       "      <th>sentence</th>\n",
       "      <th>pred</th>\n",
       "      <th>pred_proba</th>\n",
       "      <th>true</th>\n",
       "      <th>sum_proba</th>\n",
       "    </tr>\n",
       "  </thead>\n",
       "  <tbody>\n",
       "    <tr>\n",
       "      <th>0</th>\n",
       "      <td>96</td>\n",
       "      <td>In the fourth quarter of 2008 , net sales incr...</td>\n",
       "      <td>label_positive</td>\n",
       "      <td>label_positive</td>\n",
       "      <td>label_positive</td>\n",
       "      <td>1.003774</td>\n",
       "    </tr>\n",
       "    <tr>\n",
       "      <th>1</th>\n",
       "      <td>3305</td>\n",
       "      <td>The contract value amounts to EUR 2.4 million</td>\n",
       "      <td>label_neutral</td>\n",
       "      <td>label_neutral</td>\n",
       "      <td>label_neutral</td>\n",
       "      <td>1.002591</td>\n",
       "    </tr>\n",
       "    <tr>\n",
       "      <th>2</th>\n",
       "      <td>811</td>\n",
       "      <td>`` Demand for sports equipment was good in 2005</td>\n",
       "      <td>label_positive</td>\n",
       "      <td>label_positive</td>\n",
       "      <td>label_positive</td>\n",
       "      <td>1.003398</td>\n",
       "    </tr>\n",
       "    <tr>\n",
       "      <th>3</th>\n",
       "      <td>463</td>\n",
       "      <td>Tielinja generated net sales of 7.5 mln euro $...</td>\n",
       "      <td>label_neutral</td>\n",
       "      <td>label_neutral</td>\n",
       "      <td>label_neutral</td>\n",
       "      <td>1.002165</td>\n",
       "    </tr>\n",
       "    <tr>\n",
       "      <th>4</th>\n",
       "      <td>2303</td>\n",
       "      <td>` Nordic infrastructure construction is one of...</td>\n",
       "      <td>label_positive</td>\n",
       "      <td>label_positive</td>\n",
       "      <td>label_neutral</td>\n",
       "      <td>1.139043</td>\n",
       "    </tr>\n",
       "  </tbody>\n",
       "</table>\n",
       "</div>"
      ],
      "text/plain": [
       "     id                                           sentence            pred  \\\n",
       "0    96  In the fourth quarter of 2008 , net sales incr...  label_positive   \n",
       "1  3305     The contract value amounts to EUR 2.4 million    label_neutral   \n",
       "2   811   `` Demand for sports equipment was good in 2005   label_positive   \n",
       "3   463  Tielinja generated net sales of 7.5 mln euro $...   label_neutral   \n",
       "4  2303  ` Nordic infrastructure construction is one of...  label_positive   \n",
       "\n",
       "       pred_proba            true  sum_proba  \n",
       "0  label_positive  label_positive   1.003774  \n",
       "1   label_neutral   label_neutral   1.002591  \n",
       "2  label_positive  label_positive   1.003398  \n",
       "3   label_neutral   label_neutral   1.002165  \n",
       "4  label_positive   label_neutral   1.139043  "
      ]
     },
     "execution_count": 40,
     "metadata": {},
     "output_type": "execute_result"
    }
   ],
   "source": [
    "results[\"pred_proba\"] = results[\"pred_proba\"].apply(convert_pred_proba)\n",
    "results.head()"
   ]
  },
  {
   "cell_type": "code",
   "execution_count": 41,
   "metadata": {},
   "outputs": [
    {
     "data": {
      "text/html": [
       "<div>\n",
       "<style scoped>\n",
       "    .dataframe tbody tr th:only-of-type {\n",
       "        vertical-align: middle;\n",
       "    }\n",
       "\n",
       "    .dataframe tbody tr th {\n",
       "        vertical-align: top;\n",
       "    }\n",
       "\n",
       "    .dataframe thead th {\n",
       "        text-align: right;\n",
       "    }\n",
       "</style>\n",
       "<table border=\"1\" class=\"dataframe\">\n",
       "  <thead>\n",
       "    <tr style=\"text-align: right;\">\n",
       "      <th></th>\n",
       "      <th>id</th>\n",
       "      <th>sentence</th>\n",
       "      <th>pred</th>\n",
       "      <th>pred_proba</th>\n",
       "      <th>true</th>\n",
       "      <th>sum_proba</th>\n",
       "    </tr>\n",
       "  </thead>\n",
       "  <tbody>\n",
       "    <tr>\n",
       "      <th>47</th>\n",
       "      <td>2494</td>\n",
       "      <td>HELSINKI , Finland , Sept. 18 , 2009 ( GLOBE N...</td>\n",
       "      <td>label_neutral</td>\n",
       "      <td>label_positive</td>\n",
       "      <td>label_positive</td>\n",
       "      <td>1.351250</td>\n",
       "    </tr>\n",
       "    <tr>\n",
       "      <th>561</th>\n",
       "      <td>3656</td>\n",
       "      <td>Managing Director Timo Kohtam+ñki of Lemmink+ñ...</td>\n",
       "      <td>label_neutral</td>\n",
       "      <td>label_positive</td>\n",
       "      <td>label_neutral</td>\n",
       "      <td>1.243281</td>\n",
       "    </tr>\n",
       "    <tr>\n",
       "      <th>759</th>\n",
       "      <td>3753</td>\n",
       "      <td>Rautaruukki aims to find work from the group '...</td>\n",
       "      <td>label_negative</td>\n",
       "      <td>label_neutral</td>\n",
       "      <td>label_neutral</td>\n",
       "      <td>1.223250</td>\n",
       "    </tr>\n",
       "  </tbody>\n",
       "</table>\n",
       "</div>"
      ],
      "text/plain": [
       "       id                                           sentence            pred  \\\n",
       "47   2494  HELSINKI , Finland , Sept. 18 , 2009 ( GLOBE N...   label_neutral   \n",
       "561  3656  Managing Director Timo Kohtam+ñki of Lemmink+ñ...   label_neutral   \n",
       "759  3753  Rautaruukki aims to find work from the group '...  label_negative   \n",
       "\n",
       "         pred_proba            true  sum_proba  \n",
       "47   label_positive  label_positive   1.351250  \n",
       "561  label_positive   label_neutral   1.243281  \n",
       "759   label_neutral   label_neutral   1.223250  "
      ]
     },
     "execution_count": 41,
     "metadata": {},
     "output_type": "execute_result"
    }
   ],
   "source": [
    "results.loc[results[\"pred\"]!=results[\"pred_proba\"]]"
   ]
  },
  {
   "cell_type": "code",
   "execution_count": 42,
   "metadata": {},
   "outputs": [
    {
     "data": {
      "text/plain": [
       "label_neutral     496\n",
       "label_positive    256\n",
       "label_negative     91\n",
       "Name: pred_proba, dtype: int64"
      ]
     },
     "execution_count": 42,
     "metadata": {},
     "output_type": "execute_result"
    }
   ],
   "source": [
    "results[\"pred_proba\"].value_counts(dropna=False)"
   ]
  },
  {
   "cell_type": "code",
   "execution_count": 43,
   "metadata": {},
   "outputs": [
    {
     "data": {
      "text/html": [
       "<div>\n",
       "<style scoped>\n",
       "    .dataframe tbody tr th:only-of-type {\n",
       "        vertical-align: middle;\n",
       "    }\n",
       "\n",
       "    .dataframe tbody tr th {\n",
       "        vertical-align: top;\n",
       "    }\n",
       "\n",
       "    .dataframe thead th {\n",
       "        text-align: right;\n",
       "    }\n",
       "</style>\n",
       "<table border=\"1\" class=\"dataframe\">\n",
       "  <thead>\n",
       "    <tr style=\"text-align: right;\">\n",
       "      <th></th>\n",
       "      <th>id</th>\n",
       "      <th>sentence</th>\n",
       "      <th>pred</th>\n",
       "      <th>pred_proba</th>\n",
       "      <th>true</th>\n",
       "      <th>sum_proba</th>\n",
       "    </tr>\n",
       "  </thead>\n",
       "  <tbody>\n",
       "    <tr>\n",
       "      <th>0</th>\n",
       "      <td>96</td>\n",
       "      <td>In the fourth quarter of 2008 , net sales incr...</td>\n",
       "      <td>label_positive</td>\n",
       "      <td>label_positive</td>\n",
       "      <td>label_positive</td>\n",
       "      <td>1.003774</td>\n",
       "    </tr>\n",
       "    <tr>\n",
       "      <th>1</th>\n",
       "      <td>3305</td>\n",
       "      <td>The contract value amounts to EUR 2.4 million</td>\n",
       "      <td>label_neutral</td>\n",
       "      <td>label_neutral</td>\n",
       "      <td>label_neutral</td>\n",
       "      <td>1.002591</td>\n",
       "    </tr>\n",
       "    <tr>\n",
       "      <th>2</th>\n",
       "      <td>811</td>\n",
       "      <td>`` Demand for sports equipment was good in 2005</td>\n",
       "      <td>label_positive</td>\n",
       "      <td>label_positive</td>\n",
       "      <td>label_positive</td>\n",
       "      <td>1.003398</td>\n",
       "    </tr>\n",
       "    <tr>\n",
       "      <th>3</th>\n",
       "      <td>463</td>\n",
       "      <td>Tielinja generated net sales of 7.5 mln euro $...</td>\n",
       "      <td>label_neutral</td>\n",
       "      <td>label_neutral</td>\n",
       "      <td>label_neutral</td>\n",
       "      <td>1.002165</td>\n",
       "    </tr>\n",
       "    <tr>\n",
       "      <th>4</th>\n",
       "      <td>2303</td>\n",
       "      <td>` Nordic infrastructure construction is one of...</td>\n",
       "      <td>label_positive</td>\n",
       "      <td>label_positive</td>\n",
       "      <td>label_neutral</td>\n",
       "      <td>1.139043</td>\n",
       "    </tr>\n",
       "  </tbody>\n",
       "</table>\n",
       "</div>"
      ],
      "text/plain": [
       "     id                                           sentence            pred  \\\n",
       "0    96  In the fourth quarter of 2008 , net sales incr...  label_positive   \n",
       "1  3305     The contract value amounts to EUR 2.4 million    label_neutral   \n",
       "2   811   `` Demand for sports equipment was good in 2005   label_positive   \n",
       "3   463  Tielinja generated net sales of 7.5 mln euro $...   label_neutral   \n",
       "4  2303  ` Nordic infrastructure construction is one of...  label_positive   \n",
       "\n",
       "       pred_proba            true  sum_proba  \n",
       "0  label_positive  label_positive   1.003774  \n",
       "1   label_neutral   label_neutral   1.002591  \n",
       "2  label_positive  label_positive   1.003398  \n",
       "3   label_neutral   label_neutral   1.002165  \n",
       "4  label_positive   label_neutral   1.139043  "
      ]
     },
     "execution_count": 43,
     "metadata": {},
     "output_type": "execute_result"
    }
   ],
   "source": [
    "results.head()"
   ]
  },
  {
   "cell_type": "markdown",
   "metadata": {},
   "source": [
    "## BERT Large results"
   ]
  },
  {
   "cell_type": "code",
   "execution_count": 44,
   "metadata": {},
   "outputs": [
    {
     "data": {
      "text/html": [
       "<div>\n",
       "<style scoped>\n",
       "    .dataframe tbody tr th:only-of-type {\n",
       "        vertical-align: middle;\n",
       "    }\n",
       "\n",
       "    .dataframe tbody tr th {\n",
       "        vertical-align: top;\n",
       "    }\n",
       "\n",
       "    .dataframe thead th {\n",
       "        text-align: right;\n",
       "    }\n",
       "</style>\n",
       "<table border=\"1\" class=\"dataframe\">\n",
       "  <thead>\n",
       "    <tr style=\"text-align: right;\">\n",
       "      <th></th>\n",
       "      <th>Unnamed: 0</th>\n",
       "      <th>sentence</th>\n",
       "      <th>pred</th>\n",
       "      <th>pred_proba</th>\n",
       "      <th>true</th>\n",
       "    </tr>\n",
       "  </thead>\n",
       "  <tbody>\n",
       "    <tr>\n",
       "      <th>0</th>\n",
       "      <td>96</td>\n",
       "      <td>In the fourth quarter of 2008 , net sales incr...</td>\n",
       "      <td>[0.0, 0.0, 1.0]</td>\n",
       "      <td>[0.07034596800804138, 0.039265722036361694, 0....</td>\n",
       "      <td>label_positive</td>\n",
       "    </tr>\n",
       "    <tr>\n",
       "      <th>1</th>\n",
       "      <td>3305</td>\n",
       "      <td>The contract value amounts to EUR 2.4 million</td>\n",
       "      <td>[0.0, 1.0, 0.0]</td>\n",
       "      <td>[0.014253164641559124, 0.9578186273574829, 0.0...</td>\n",
       "      <td>label_neutral</td>\n",
       "    </tr>\n",
       "    <tr>\n",
       "      <th>2</th>\n",
       "      <td>811</td>\n",
       "      <td>`` Demand for sports equipment was good in 2005</td>\n",
       "      <td>[0.0, 0.0, 1.0]</td>\n",
       "      <td>[0.04201382398605347, 0.07096993923187256, 0.9...</td>\n",
       "      <td>label_positive</td>\n",
       "    </tr>\n",
       "    <tr>\n",
       "      <th>3</th>\n",
       "      <td>463</td>\n",
       "      <td>Tielinja generated net sales of 7.5 mln euro $...</td>\n",
       "      <td>[0.0, 1.0, 0.0]</td>\n",
       "      <td>[0.026005534455180168, 0.9632948040962219, 0.0...</td>\n",
       "      <td>label_neutral</td>\n",
       "    </tr>\n",
       "    <tr>\n",
       "      <th>4</th>\n",
       "      <td>2303</td>\n",
       "      <td>` Nordic infrastructure construction is one of...</td>\n",
       "      <td>[0.0, 0.0, 1.0]</td>\n",
       "      <td>[0.02008826471865177, 0.22700658440589905, 0.8...</td>\n",
       "      <td>label_neutral</td>\n",
       "    </tr>\n",
       "  </tbody>\n",
       "</table>\n",
       "</div>"
      ],
      "text/plain": [
       "   Unnamed: 0                                           sentence  \\\n",
       "0          96  In the fourth quarter of 2008 , net sales incr...   \n",
       "1        3305     The contract value amounts to EUR 2.4 million    \n",
       "2         811   `` Demand for sports equipment was good in 2005    \n",
       "3         463  Tielinja generated net sales of 7.5 mln euro $...   \n",
       "4        2303  ` Nordic infrastructure construction is one of...   \n",
       "\n",
       "              pred                                         pred_proba  \\\n",
       "0  [0.0, 0.0, 1.0]  [0.07034596800804138, 0.039265722036361694, 0....   \n",
       "1  [0.0, 1.0, 0.0]  [0.014253164641559124, 0.9578186273574829, 0.0...   \n",
       "2  [0.0, 0.0, 1.0]  [0.04201382398605347, 0.07096993923187256, 0.9...   \n",
       "3  [0.0, 1.0, 0.0]  [0.026005534455180168, 0.9632948040962219, 0.0...   \n",
       "4  [0.0, 0.0, 1.0]  [0.02008826471865177, 0.22700658440589905, 0.8...   \n",
       "\n",
       "             true  \n",
       "0  label_positive  \n",
       "1   label_neutral  \n",
       "2  label_positive  \n",
       "3   label_neutral  \n",
       "4   label_neutral  "
      ]
     },
     "execution_count": 44,
     "metadata": {},
     "output_type": "execute_result"
    }
   ],
   "source": [
    "results_large = pd.read_csv(\"/Users/manueltonneau/Documents/Humboldt/Second semester/Master thesis/results/test_malo_sentence_classification_bert_large.csv\")\n",
    "results_large.head()"
   ]
  },
  {
   "cell_type": "code",
   "execution_count": 45,
   "metadata": {},
   "outputs": [
    {
     "data": {
      "text/html": [
       "<div>\n",
       "<style scoped>\n",
       "    .dataframe tbody tr th:only-of-type {\n",
       "        vertical-align: middle;\n",
       "    }\n",
       "\n",
       "    .dataframe tbody tr th {\n",
       "        vertical-align: top;\n",
       "    }\n",
       "\n",
       "    .dataframe thead th {\n",
       "        text-align: right;\n",
       "    }\n",
       "</style>\n",
       "<table border=\"1\" class=\"dataframe\">\n",
       "  <thead>\n",
       "    <tr style=\"text-align: right;\">\n",
       "      <th></th>\n",
       "      <th>id</th>\n",
       "      <th>sentence</th>\n",
       "      <th>pred</th>\n",
       "      <th>pred_proba</th>\n",
       "      <th>true</th>\n",
       "    </tr>\n",
       "  </thead>\n",
       "  <tbody>\n",
       "    <tr>\n",
       "      <th>0</th>\n",
       "      <td>96</td>\n",
       "      <td>In the fourth quarter of 2008 , net sales incr...</td>\n",
       "      <td>[0.0, 0.0, 1.0]</td>\n",
       "      <td>[0.07034596800804138, 0.039265722036361694, 0....</td>\n",
       "      <td>label_positive</td>\n",
       "    </tr>\n",
       "    <tr>\n",
       "      <th>1</th>\n",
       "      <td>3305</td>\n",
       "      <td>The contract value amounts to EUR 2.4 million</td>\n",
       "      <td>[0.0, 1.0, 0.0]</td>\n",
       "      <td>[0.014253164641559124, 0.9578186273574829, 0.0...</td>\n",
       "      <td>label_neutral</td>\n",
       "    </tr>\n",
       "    <tr>\n",
       "      <th>2</th>\n",
       "      <td>811</td>\n",
       "      <td>`` Demand for sports equipment was good in 2005</td>\n",
       "      <td>[0.0, 0.0, 1.0]</td>\n",
       "      <td>[0.04201382398605347, 0.07096993923187256, 0.9...</td>\n",
       "      <td>label_positive</td>\n",
       "    </tr>\n",
       "    <tr>\n",
       "      <th>3</th>\n",
       "      <td>463</td>\n",
       "      <td>Tielinja generated net sales of 7.5 mln euro $...</td>\n",
       "      <td>[0.0, 1.0, 0.0]</td>\n",
       "      <td>[0.026005534455180168, 0.9632948040962219, 0.0...</td>\n",
       "      <td>label_neutral</td>\n",
       "    </tr>\n",
       "    <tr>\n",
       "      <th>4</th>\n",
       "      <td>2303</td>\n",
       "      <td>` Nordic infrastructure construction is one of...</td>\n",
       "      <td>[0.0, 0.0, 1.0]</td>\n",
       "      <td>[0.02008826471865177, 0.22700658440589905, 0.8...</td>\n",
       "      <td>label_neutral</td>\n",
       "    </tr>\n",
       "    <tr>\n",
       "      <th>5</th>\n",
       "      <td>2751</td>\n",
       "      <td>The contract includes design , construction , ...</td>\n",
       "      <td>[0.0, 1.0, 0.0]</td>\n",
       "      <td>[0.01634831540286541, 0.9641873240470886, 0.03...</td>\n",
       "      <td>label_neutral</td>\n",
       "    </tr>\n",
       "    <tr>\n",
       "      <th>6</th>\n",
       "      <td>2245</td>\n",
       "      <td>The money will be spread mainly over 2011 and ...</td>\n",
       "      <td>[0.0, 1.0, 0.0]</td>\n",
       "      <td>[0.022028401494026184, 0.9647936820983887, 0.0...</td>\n",
       "      <td>label_neutral</td>\n",
       "    </tr>\n",
       "    <tr>\n",
       "      <th>7</th>\n",
       "      <td>862</td>\n",
       "      <td>The company negotiated an amendment to the fin...</td>\n",
       "      <td>[0.0, 1.0, 0.0]</td>\n",
       "      <td>[0.020661473274230957, 0.9163827300071716, 0.0...</td>\n",
       "      <td>label_neutral</td>\n",
       "    </tr>\n",
       "    <tr>\n",
       "      <th>8</th>\n",
       "      <td>2827</td>\n",
       "      <td>The number of class A shares remains unchanged...</td>\n",
       "      <td>[0.0, 1.0, 0.0]</td>\n",
       "      <td>[0.029698584228754044, 0.9630138874053955, 0.0...</td>\n",
       "      <td>label_neutral</td>\n",
       "    </tr>\n",
       "    <tr>\n",
       "      <th>9</th>\n",
       "      <td>3025</td>\n",
       "      <td>After the sale , Outokumpu 's share of the tec...</td>\n",
       "      <td>[0.0, 1.0, 0.0]</td>\n",
       "      <td>[0.233189195394516, 0.7380191683769226, 0.0255...</td>\n",
       "      <td>label_neutral</td>\n",
       "    </tr>\n",
       "    <tr>\n",
       "      <th>10</th>\n",
       "      <td>897</td>\n",
       "      <td>An additional amount , capped at EUR12m , is p...</td>\n",
       "      <td>[0.0, 1.0, 0.0]</td>\n",
       "      <td>[0.014140124432742596, 0.9536605477333069, 0.0...</td>\n",
       "      <td>label_neutral</td>\n",
       "    </tr>\n",
       "    <tr>\n",
       "      <th>11</th>\n",
       "      <td>1138</td>\n",
       "      <td>The broker started UPM-Kymmene , Stora Enso an...</td>\n",
       "      <td>[0.0, 1.0, 0.0]</td>\n",
       "      <td>[0.021210094913840294, 0.8826090693473816, 0.0...</td>\n",
       "      <td>label_neutral</td>\n",
       "    </tr>\n",
       "    <tr>\n",
       "      <th>12</th>\n",
       "      <td>3922</td>\n",
       "      <td>To ensure low operational cost for radio netwo...</td>\n",
       "      <td>[0.0, 1.0, 0.0]</td>\n",
       "      <td>[0.014313653111457825, 0.9482829570770264, 0.0...</td>\n",
       "      <td>label_positive</td>\n",
       "    </tr>\n",
       "    <tr>\n",
       "      <th>13</th>\n",
       "      <td>1221</td>\n",
       "      <td>Utah 's capital wanted to be the next U.S. hea...</td>\n",
       "      <td>[0.0, 1.0, 0.0]</td>\n",
       "      <td>[0.022514818236231804, 0.9545502066612244, 0.0...</td>\n",
       "      <td>label_neutral</td>\n",
       "    </tr>\n",
       "    <tr>\n",
       "      <th>14</th>\n",
       "      <td>3613</td>\n",
       "      <td>Finnish M-real 's Kyro mill is starting negoti...</td>\n",
       "      <td>[1.0, 0.0, 0.0]</td>\n",
       "      <td>[0.9466381072998047, 0.0670531839132309, 0.103...</td>\n",
       "      <td>label_negative</td>\n",
       "    </tr>\n",
       "    <tr>\n",
       "      <th>15</th>\n",
       "      <td>691</td>\n",
       "      <td>The acquisition is expected to improve access ...</td>\n",
       "      <td>[0.0, 0.0, 1.0]</td>\n",
       "      <td>[0.05659204348921776, 0.05102665722370148, 0.9...</td>\n",
       "      <td>label_positive</td>\n",
       "    </tr>\n",
       "    <tr>\n",
       "      <th>16</th>\n",
       "      <td>511</td>\n",
       "      <td>The offer of some 30 million shares aimed to r...</td>\n",
       "      <td>[0.0, 1.0, 0.0]</td>\n",
       "      <td>[0.012492675334215164, 0.9534283876419067, 0.0...</td>\n",
       "      <td>label_neutral</td>\n",
       "    </tr>\n",
       "    <tr>\n",
       "      <th>17</th>\n",
       "      <td>2005</td>\n",
       "      <td>All YIT Capital Markets Day materials will be ...</td>\n",
       "      <td>[0.0, 1.0, 0.0]</td>\n",
       "      <td>[0.032514553517103195, 0.9736759662628174, 0.0...</td>\n",
       "      <td>label_neutral</td>\n",
       "    </tr>\n",
       "    <tr>\n",
       "      <th>18</th>\n",
       "      <td>1703</td>\n",
       "      <td>The item included restructuring costs of EUR1 ...</td>\n",
       "      <td>[0.0, 0.0, 1.0]</td>\n",
       "      <td>[0.06432437151670456, 0.21780535578727722, 0.6...</td>\n",
       "      <td>label_positive</td>\n",
       "    </tr>\n",
       "    <tr>\n",
       "      <th>19</th>\n",
       "      <td>3352</td>\n",
       "      <td>The markets expect Heineken to sell Hartwall a...</td>\n",
       "      <td>[0.0, 1.0, 0.0]</td>\n",
       "      <td>[0.015602201223373413, 0.9567509889602661, 0.0...</td>\n",
       "      <td>label_neutral</td>\n",
       "    </tr>\n",
       "  </tbody>\n",
       "</table>\n",
       "</div>"
      ],
      "text/plain": [
       "      id                                           sentence             pred  \\\n",
       "0     96  In the fourth quarter of 2008 , net sales incr...  [0.0, 0.0, 1.0]   \n",
       "1   3305     The contract value amounts to EUR 2.4 million   [0.0, 1.0, 0.0]   \n",
       "2    811   `` Demand for sports equipment was good in 2005   [0.0, 0.0, 1.0]   \n",
       "3    463  Tielinja generated net sales of 7.5 mln euro $...  [0.0, 1.0, 0.0]   \n",
       "4   2303  ` Nordic infrastructure construction is one of...  [0.0, 0.0, 1.0]   \n",
       "5   2751  The contract includes design , construction , ...  [0.0, 1.0, 0.0]   \n",
       "6   2245  The money will be spread mainly over 2011 and ...  [0.0, 1.0, 0.0]   \n",
       "7    862  The company negotiated an amendment to the fin...  [0.0, 1.0, 0.0]   \n",
       "8   2827  The number of class A shares remains unchanged...  [0.0, 1.0, 0.0]   \n",
       "9   3025  After the sale , Outokumpu 's share of the tec...  [0.0, 1.0, 0.0]   \n",
       "10   897  An additional amount , capped at EUR12m , is p...  [0.0, 1.0, 0.0]   \n",
       "11  1138  The broker started UPM-Kymmene , Stora Enso an...  [0.0, 1.0, 0.0]   \n",
       "12  3922  To ensure low operational cost for radio netwo...  [0.0, 1.0, 0.0]   \n",
       "13  1221  Utah 's capital wanted to be the next U.S. hea...  [0.0, 1.0, 0.0]   \n",
       "14  3613  Finnish M-real 's Kyro mill is starting negoti...  [1.0, 0.0, 0.0]   \n",
       "15   691  The acquisition is expected to improve access ...  [0.0, 0.0, 1.0]   \n",
       "16   511  The offer of some 30 million shares aimed to r...  [0.0, 1.0, 0.0]   \n",
       "17  2005  All YIT Capital Markets Day materials will be ...  [0.0, 1.0, 0.0]   \n",
       "18  1703  The item included restructuring costs of EUR1 ...  [0.0, 0.0, 1.0]   \n",
       "19  3352  The markets expect Heineken to sell Hartwall a...  [0.0, 1.0, 0.0]   \n",
       "\n",
       "                                           pred_proba            true  \n",
       "0   [0.07034596800804138, 0.039265722036361694, 0....  label_positive  \n",
       "1   [0.014253164641559124, 0.9578186273574829, 0.0...   label_neutral  \n",
       "2   [0.04201382398605347, 0.07096993923187256, 0.9...  label_positive  \n",
       "3   [0.026005534455180168, 0.9632948040962219, 0.0...   label_neutral  \n",
       "4   [0.02008826471865177, 0.22700658440589905, 0.8...   label_neutral  \n",
       "5   [0.01634831540286541, 0.9641873240470886, 0.03...   label_neutral  \n",
       "6   [0.022028401494026184, 0.9647936820983887, 0.0...   label_neutral  \n",
       "7   [0.020661473274230957, 0.9163827300071716, 0.0...   label_neutral  \n",
       "8   [0.029698584228754044, 0.9630138874053955, 0.0...   label_neutral  \n",
       "9   [0.233189195394516, 0.7380191683769226, 0.0255...   label_neutral  \n",
       "10  [0.014140124432742596, 0.9536605477333069, 0.0...   label_neutral  \n",
       "11  [0.021210094913840294, 0.8826090693473816, 0.0...   label_neutral  \n",
       "12  [0.014313653111457825, 0.9482829570770264, 0.0...  label_positive  \n",
       "13  [0.022514818236231804, 0.9545502066612244, 0.0...   label_neutral  \n",
       "14  [0.9466381072998047, 0.0670531839132309, 0.103...  label_negative  \n",
       "15  [0.05659204348921776, 0.05102665722370148, 0.9...  label_positive  \n",
       "16  [0.012492675334215164, 0.9534283876419067, 0.0...   label_neutral  \n",
       "17  [0.032514553517103195, 0.9736759662628174, 0.0...   label_neutral  \n",
       "18  [0.06432437151670456, 0.21780535578727722, 0.6...  label_positive  \n",
       "19  [0.015602201223373413, 0.9567509889602661, 0.0...   label_neutral  "
      ]
     },
     "execution_count": 45,
     "metadata": {},
     "output_type": "execute_result"
    }
   ],
   "source": [
    "results_large.columns = [\"id\",\"sentence\",\"pred\",\"pred_proba\",\"true\"]\n",
    "results_large.head(n=20)"
   ]
  },
  {
   "cell_type": "code",
   "execution_count": 46,
   "metadata": {},
   "outputs": [],
   "source": [
    "results_large[\"pred\"] = results_large[\"pred\"].apply(convert_pred)"
   ]
  },
  {
   "cell_type": "code",
   "execution_count": 47,
   "metadata": {},
   "outputs": [
    {
     "data": {
      "text/html": [
       "<div>\n",
       "<style scoped>\n",
       "    .dataframe tbody tr th:only-of-type {\n",
       "        vertical-align: middle;\n",
       "    }\n",
       "\n",
       "    .dataframe tbody tr th {\n",
       "        vertical-align: top;\n",
       "    }\n",
       "\n",
       "    .dataframe thead th {\n",
       "        text-align: right;\n",
       "    }\n",
       "</style>\n",
       "<table border=\"1\" class=\"dataframe\">\n",
       "  <thead>\n",
       "    <tr style=\"text-align: right;\">\n",
       "      <th></th>\n",
       "      <th>id</th>\n",
       "      <th>sentence</th>\n",
       "      <th>pred</th>\n",
       "      <th>pred_proba</th>\n",
       "      <th>true</th>\n",
       "      <th>sum_proba</th>\n",
       "    </tr>\n",
       "  </thead>\n",
       "  <tbody>\n",
       "    <tr>\n",
       "      <th>0</th>\n",
       "      <td>96</td>\n",
       "      <td>In the fourth quarter of 2008 , net sales incr...</td>\n",
       "      <td>label_positive</td>\n",
       "      <td>2</td>\n",
       "      <td>label_positive</td>\n",
       "      <td>1.068760</td>\n",
       "    </tr>\n",
       "    <tr>\n",
       "      <th>1</th>\n",
       "      <td>3305</td>\n",
       "      <td>The contract value amounts to EUR 2.4 million</td>\n",
       "      <td>label_neutral</td>\n",
       "      <td>1</td>\n",
       "      <td>label_neutral</td>\n",
       "      <td>1.014793</td>\n",
       "    </tr>\n",
       "    <tr>\n",
       "      <th>2</th>\n",
       "      <td>811</td>\n",
       "      <td>`` Demand for sports equipment was good in 2005</td>\n",
       "      <td>label_positive</td>\n",
       "      <td>2</td>\n",
       "      <td>label_positive</td>\n",
       "      <td>1.042523</td>\n",
       "    </tr>\n",
       "    <tr>\n",
       "      <th>3</th>\n",
       "      <td>463</td>\n",
       "      <td>Tielinja generated net sales of 7.5 mln euro $...</td>\n",
       "      <td>label_neutral</td>\n",
       "      <td>1</td>\n",
       "      <td>label_neutral</td>\n",
       "      <td>1.021413</td>\n",
       "    </tr>\n",
       "    <tr>\n",
       "      <th>4</th>\n",
       "      <td>2303</td>\n",
       "      <td>` Nordic infrastructure construction is one of...</td>\n",
       "      <td>label_positive</td>\n",
       "      <td>2</td>\n",
       "      <td>label_neutral</td>\n",
       "      <td>1.075301</td>\n",
       "    </tr>\n",
       "  </tbody>\n",
       "</table>\n",
       "</div>"
      ],
      "text/plain": [
       "     id                                           sentence            pred  \\\n",
       "0    96  In the fourth quarter of 2008 , net sales incr...  label_positive   \n",
       "1  3305     The contract value amounts to EUR 2.4 million    label_neutral   \n",
       "2   811   `` Demand for sports equipment was good in 2005   label_positive   \n",
       "3   463  Tielinja generated net sales of 7.5 mln euro $...   label_neutral   \n",
       "4  2303  ` Nordic infrastructure construction is one of...  label_positive   \n",
       "\n",
       "   pred_proba            true  sum_proba  \n",
       "0           2  label_positive   1.068760  \n",
       "1           1   label_neutral   1.014793  \n",
       "2           2  label_positive   1.042523  \n",
       "3           1   label_neutral   1.021413  \n",
       "4           2   label_neutral   1.075301  "
      ]
     },
     "execution_count": 47,
     "metadata": {},
     "output_type": "execute_result"
    }
   ],
   "source": [
    "results_large[\"pred_proba\"] = results_large[\"pred_proba\"].apply(literal_eval)\n",
    "results_large[\"sum_proba\"] = results_large[\"pred_proba\"].apply(sum)\n",
    "results_large[\"pred_proba\"] = results_large[\"pred_proba\"].apply(np.argmax)\n",
    "results_large.head()"
   ]
  },
  {
   "cell_type": "code",
   "execution_count": 48,
   "metadata": {},
   "outputs": [
    {
     "data": {
      "text/html": [
       "<div>\n",
       "<style scoped>\n",
       "    .dataframe tbody tr th:only-of-type {\n",
       "        vertical-align: middle;\n",
       "    }\n",
       "\n",
       "    .dataframe tbody tr th {\n",
       "        vertical-align: top;\n",
       "    }\n",
       "\n",
       "    .dataframe thead th {\n",
       "        text-align: right;\n",
       "    }\n",
       "</style>\n",
       "<table border=\"1\" class=\"dataframe\">\n",
       "  <thead>\n",
       "    <tr style=\"text-align: right;\">\n",
       "      <th></th>\n",
       "      <th>id</th>\n",
       "      <th>sentence</th>\n",
       "      <th>pred</th>\n",
       "      <th>pred_proba</th>\n",
       "      <th>true</th>\n",
       "      <th>sum_proba</th>\n",
       "    </tr>\n",
       "  </thead>\n",
       "  <tbody>\n",
       "    <tr>\n",
       "      <th>0</th>\n",
       "      <td>96</td>\n",
       "      <td>In the fourth quarter of 2008 , net sales incr...</td>\n",
       "      <td>label_positive</td>\n",
       "      <td>label_positive</td>\n",
       "      <td>label_positive</td>\n",
       "      <td>1.068760</td>\n",
       "    </tr>\n",
       "    <tr>\n",
       "      <th>1</th>\n",
       "      <td>3305</td>\n",
       "      <td>The contract value amounts to EUR 2.4 million</td>\n",
       "      <td>label_neutral</td>\n",
       "      <td>label_neutral</td>\n",
       "      <td>label_neutral</td>\n",
       "      <td>1.014793</td>\n",
       "    </tr>\n",
       "    <tr>\n",
       "      <th>2</th>\n",
       "      <td>811</td>\n",
       "      <td>`` Demand for sports equipment was good in 2005</td>\n",
       "      <td>label_positive</td>\n",
       "      <td>label_positive</td>\n",
       "      <td>label_positive</td>\n",
       "      <td>1.042523</td>\n",
       "    </tr>\n",
       "    <tr>\n",
       "      <th>3</th>\n",
       "      <td>463</td>\n",
       "      <td>Tielinja generated net sales of 7.5 mln euro $...</td>\n",
       "      <td>label_neutral</td>\n",
       "      <td>label_neutral</td>\n",
       "      <td>label_neutral</td>\n",
       "      <td>1.021413</td>\n",
       "    </tr>\n",
       "    <tr>\n",
       "      <th>4</th>\n",
       "      <td>2303</td>\n",
       "      <td>` Nordic infrastructure construction is one of...</td>\n",
       "      <td>label_positive</td>\n",
       "      <td>label_positive</td>\n",
       "      <td>label_neutral</td>\n",
       "      <td>1.075301</td>\n",
       "    </tr>\n",
       "  </tbody>\n",
       "</table>\n",
       "</div>"
      ],
      "text/plain": [
       "     id                                           sentence            pred  \\\n",
       "0    96  In the fourth quarter of 2008 , net sales incr...  label_positive   \n",
       "1  3305     The contract value amounts to EUR 2.4 million    label_neutral   \n",
       "2   811   `` Demand for sports equipment was good in 2005   label_positive   \n",
       "3   463  Tielinja generated net sales of 7.5 mln euro $...   label_neutral   \n",
       "4  2303  ` Nordic infrastructure construction is one of...  label_positive   \n",
       "\n",
       "       pred_proba            true  sum_proba  \n",
       "0  label_positive  label_positive   1.068760  \n",
       "1   label_neutral   label_neutral   1.014793  \n",
       "2  label_positive  label_positive   1.042523  \n",
       "3   label_neutral   label_neutral   1.021413  \n",
       "4  label_positive   label_neutral   1.075301  "
      ]
     },
     "execution_count": 48,
     "metadata": {},
     "output_type": "execute_result"
    }
   ],
   "source": [
    "results_large[\"pred_proba\"] = results_large[\"pred_proba\"].apply(convert_pred_proba)\n",
    "results_large.head()"
   ]
  },
  {
   "cell_type": "markdown",
   "metadata": {},
   "source": [
    "# Results comparison"
   ]
  },
  {
   "cell_type": "code",
   "execution_count": 31,
   "metadata": {},
   "outputs": [
    {
     "data": {
      "text/html": [
       "<div>\n",
       "<style scoped>\n",
       "    .dataframe tbody tr th:only-of-type {\n",
       "        vertical-align: middle;\n",
       "    }\n",
       "\n",
       "    .dataframe tbody tr th {\n",
       "        vertical-align: top;\n",
       "    }\n",
       "\n",
       "    .dataframe thead th {\n",
       "        text-align: right;\n",
       "    }\n",
       "</style>\n",
       "<table border=\"1\" class=\"dataframe\">\n",
       "  <thead>\n",
       "    <tr style=\"text-align: right;\">\n",
       "      <th></th>\n",
       "      <th>Unnamed: 0</th>\n",
       "      <th>sentence</th>\n",
       "      <th>label</th>\n",
       "      <th>pred_dico</th>\n",
       "    </tr>\n",
       "  </thead>\n",
       "  <tbody>\n",
       "    <tr>\n",
       "      <th>0</th>\n",
       "      <td>0</td>\n",
       "      <td>According to Gran , the company has no plans t...</td>\n",
       "      <td>label_neutral</td>\n",
       "      <td>label_neutral</td>\n",
       "    </tr>\n",
       "    <tr>\n",
       "      <th>1</th>\n",
       "      <td>1</td>\n",
       "      <td>Technopolis plans to develop in stages an area...</td>\n",
       "      <td>label_neutral</td>\n",
       "      <td>label_neutral</td>\n",
       "    </tr>\n",
       "    <tr>\n",
       "      <th>2</th>\n",
       "      <td>2</td>\n",
       "      <td>With the new production plant the company woul...</td>\n",
       "      <td>label_positive</td>\n",
       "      <td>label_positive</td>\n",
       "    </tr>\n",
       "    <tr>\n",
       "      <th>3</th>\n",
       "      <td>3</td>\n",
       "      <td>According to the company 's updated strategy f...</td>\n",
       "      <td>label_positive</td>\n",
       "      <td>label_neutral</td>\n",
       "    </tr>\n",
       "    <tr>\n",
       "      <th>4</th>\n",
       "      <td>4</td>\n",
       "      <td>For the last quarter of 2010 , Componenta 's n...</td>\n",
       "      <td>label_positive</td>\n",
       "      <td>label_negative</td>\n",
       "    </tr>\n",
       "  </tbody>\n",
       "</table>\n",
       "</div>"
      ],
      "text/plain": [
       "   Unnamed: 0                                           sentence  \\\n",
       "0           0  According to Gran , the company has no plans t...   \n",
       "1           1  Technopolis plans to develop in stages an area...   \n",
       "2           2  With the new production plant the company woul...   \n",
       "3           3  According to the company 's updated strategy f...   \n",
       "4           4  For the last quarter of 2010 , Componenta 's n...   \n",
       "\n",
       "            label       pred_dico  \n",
       "0   label_neutral   label_neutral  \n",
       "1   label_neutral   label_neutral  \n",
       "2  label_positive  label_positive  \n",
       "3  label_positive   label_neutral  \n",
       "4  label_positive  label_negative  "
      ]
     },
     "execution_count": 31,
     "metadata": {},
     "output_type": "execute_result"
    }
   ],
   "source": [
    "malo.head()"
   ]
  },
  {
   "cell_type": "code",
   "execution_count": 32,
   "metadata": {},
   "outputs": [
    {
     "data": {
      "text/plain": [
       "0.6483281953995732"
      ]
     },
     "execution_count": 32,
     "metadata": {},
     "output_type": "execute_result"
    }
   ],
   "source": [
    "#Lexicon method\n",
    "accuracy_score(malo[\"label\"], malo[\"pred_dico\"])"
   ]
  },
  {
   "cell_type": "code",
   "execution_count": 70,
   "metadata": {},
   "outputs": [
    {
     "data": {
      "text/plain": [
       "0.7022538552787663"
      ]
     },
     "execution_count": 70,
     "metadata": {},
     "output_type": "execute_result"
    }
   ],
   "source": [
    "#Baseline: TFIDF Naive Bayes without gridsearch\n",
    "accuracy_score(results_baseline[\"true\"], results_baseline[\"pred_baseline\"])"
   ]
  },
  {
   "cell_type": "code",
   "execution_count": 71,
   "metadata": {},
   "outputs": [
    {
     "data": {
      "text/plain": [
       "0.8090154211150652"
      ]
     },
     "execution_count": 71,
     "metadata": {},
     "output_type": "execute_result"
    }
   ],
   "source": [
    "# TFIDF SVM without gridsearch\n",
    "accuracy_score(results_baseline[\"true\"], results_baseline[\"pred_without_gridsearch\"])"
   ]
  },
  {
   "cell_type": "code",
   "execution_count": 72,
   "metadata": {},
   "outputs": [
    {
     "data": {
      "text/plain": [
       "0.8291814946619217"
      ]
     },
     "execution_count": 72,
     "metadata": {},
     "output_type": "execute_result"
    }
   ],
   "source": [
    "# TFIDF SVM with gridsearch\n",
    "accuracy_score(results_baseline[\"true\"], results_baseline[\"pred_gridsearch\"])"
   ]
  },
  {
   "cell_type": "code",
   "execution_count": 73,
   "metadata": {},
   "outputs": [
    {
     "data": {
      "text/plain": [
       "0.697508896797153"
      ]
     },
     "execution_count": 73,
     "metadata": {},
     "output_type": "execute_result"
    }
   ],
   "source": [
    "# TFIDF SVM without gridsearch, undersampling\n",
    "accuracy_score(results_baseline[\"true\"], results_baseline[\"pred_without_gridsearch_undersampling\"])"
   ]
  },
  {
   "cell_type": "code",
   "execution_count": 74,
   "metadata": {},
   "outputs": [
    {
     "data": {
      "text/plain": [
       "0.8078291814946619"
      ]
     },
     "execution_count": 74,
     "metadata": {},
     "output_type": "execute_result"
    }
   ],
   "source": [
    "# TFIDF SVM without gridsearch, oversampling\n",
    "accuracy_score(results_baseline[\"true\"], results_baseline[\"pred_without_gridsearch_smote\"])"
   ]
  },
  {
   "cell_type": "code",
   "execution_count": 83,
   "metadata": {},
   "outputs": [
    {
     "data": {
      "text/plain": [
       "0.6168446026097272"
      ]
     },
     "execution_count": 83,
     "metadata": {},
     "output_type": "execute_result"
    }
   ],
   "source": [
    "# Word2vec own SVM\n",
    "accuracy_score(results_w2v[\"true\"], results_w2v[\"pred_w2v_own\"])"
   ]
  },
  {
   "cell_type": "code",
   "execution_count": 84,
   "metadata": {},
   "outputs": [
    {
     "data": {
      "text/plain": [
       "0.6215895610913404"
      ]
     },
     "execution_count": 84,
     "metadata": {},
     "output_type": "execute_result"
    }
   ],
   "source": [
    "# Word2vec pre-trained SVM\n",
    "accuracy_score(results_w2v[\"true\"], results_w2v[\"pred_w2v_glove\"])"
   ]
  },
  {
   "cell_type": "code",
   "execution_count": 77,
   "metadata": {},
   "outputs": [
    {
     "data": {
      "text/plain": [
       "0.7532621589561092"
      ]
     },
     "execution_count": 77,
     "metadata": {},
     "output_type": "execute_result"
    }
   ],
   "source": [
    "# Doc2Vec\n",
    "accuracy_score(results_d2v[\"true\"], results_d2v[\"pred\"])"
   ]
  },
  {
   "cell_type": "code",
   "execution_count": 49,
   "metadata": {},
   "outputs": [
    {
     "data": {
      "text/plain": [
       "0.8979833926453143"
      ]
     },
     "execution_count": 49,
     "metadata": {},
     "output_type": "execute_result"
    }
   ],
   "source": [
    "#BERT base\n",
    "accuracy_score(results[\"true\"], results[\"pred_proba\"])"
   ]
  },
  {
   "cell_type": "code",
   "execution_count": 50,
   "metadata": {},
   "outputs": [
    {
     "data": {
      "text/plain": [
       "0.896797153024911"
      ]
     },
     "execution_count": 50,
     "metadata": {},
     "output_type": "execute_result"
    }
   ],
   "source": [
    "#BERT large\n",
    "accuracy_score(results_large[\"true\"], results_large[\"pred_proba\"])"
   ]
  },
  {
   "cell_type": "code",
   "execution_count": 89,
   "metadata": {},
   "outputs": [
    {
     "data": {
      "image/png": "[encoded data removed]",
      "text/plain": [
       "<Figure size 432x288 with 1 Axes>"
      ]
     },
     "metadata": {
      "needs_background": "light"
     },
     "output_type": "display_data"
    }
   ],
   "source": [
    "cm = confusion_matrix(y_target=results_baseline[\"true\"], \n",
    "                      y_predicted=results_baseline[\"pred_without_gridsearch\"], \n",
    "                      binary=False)\n",
    "fig, ax = plot_confusion_matrix(conf_mat=cm,class_names=[\"negative\", \"neutral\", \"positive\"])\n",
    "plt.show()"
   ]
  },
  {
   "cell_type": "code",
   "execution_count": 93,
   "metadata": {},
   "outputs": [
    {
     "data": {
      "image/png": "[encoded data removed]",
      "text/plain": [
       "<Figure size 432x288 with 1 Axes>"
      ]
     },
     "metadata": {
      "needs_background": "light"
     },
     "output_type": "display_data"
    }
   ],
   "source": [
    "cm = confusion_matrix(y_target=results_baseline[\"true\"], \n",
    "                      y_predicted=results_baseline[\"pred_without_gridsearch_smote\"], \n",
    "                      binary=False)\n",
    "fig, ax = plot_confusion_matrix(conf_mat=cm,class_names=[\"negative\", \"neutral\", \"positive\"])\n",
    "plt.show()"
   ]
  },
  {
   "cell_type": "code",
   "execution_count": 92,
   "metadata": {},
   "outputs": [
    {
     "data": {
      "image/png": "[encoded data removed]",
      "text/plain": [
       "<Figure size 432x288 with 1 Axes>"
      ]
     },
     "metadata": {
      "needs_background": "light"
     },
     "output_type": "display_data"
    }
   ],
   "source": [
    "cm = confusion_matrix(y_target=results_baseline[\"true\"], \n",
    "                      y_predicted=results_baseline[\"pred_without_gridsearch_undersampling\"], \n",
    "                      binary=False)\n",
    "fig, ax = plot_confusion_matrix(conf_mat=cm,class_names=[\"negative\", \"neutral\", \"positive\"])\n",
    "plt.show()"
   ]
  },
  {
   "cell_type": "code",
   "execution_count": 91,
   "metadata": {},
   "outputs": [
    {
     "data": {
      "image/png": "[encoded data removed]",
      "text/plain": [
       "<Figure size 432x288 with 1 Axes>"
      ]
     },
     "metadata": {
      "needs_background": "light"
     },
     "output_type": "display_data"
    }
   ],
   "source": [
    "cm = confusion_matrix(y_target=results_baseline[\"true\"], \n",
    "                      y_predicted=results_baseline[\"pred_gridsearch\"], \n",
    "                      binary=False)\n",
    "fig, ax = plot_confusion_matrix(conf_mat=cm,class_names=[\"negative\", \"neutral\", \"positive\"])\n",
    "plt.show()"
   ]
  },
  {
   "cell_type": "code",
   "execution_count": 85,
   "metadata": {},
   "outputs": [
    {
     "data": {
      "image/png": "[encoded data removed]",
      "text/plain": [
       "<Figure size 432x288 with 1 Axes>"
      ]
     },
     "metadata": {
      "needs_background": "light"
     },
     "output_type": "display_data"
    }
   ],
   "source": [
    "cm = confusion_matrix(y_target=results[\"true\"], \n",
    "                      y_predicted=results[\"pred_proba\"], \n",
    "                      binary=False)\n",
    "fig, ax = plot_confusion_matrix(conf_mat=cm,class_names=[\"negative\", \"neutral\", \"positive\"])\n",
    "plt.show()"
   ]
  },
  {
   "cell_type": "markdown",
   "metadata": {},
   "source": [
    "### Precision"
   ]
  },
  {
   "cell_type": "code",
   "execution_count": 108,
   "metadata": {},
   "outputs": [
    {
     "data": {
      "text/plain": [
       "array([0.7       , 0.83895131, 0.77729258])"
      ]
     },
     "execution_count": 108,
     "metadata": {},
     "output_type": "execute_result"
    }
   ],
   "source": [
    "#precision SVM without gridsearch\n",
    "precision_score(results_baseline[\"true\"], results_baseline[\"pred_without_gridsearch\"], average=None,labels=[\"label_negative\",\"label_neutral\",\"label_positive\"])"
   ]
  },
  {
   "cell_type": "code",
   "execution_count": 109,
   "metadata": {},
   "outputs": [
    {
     "data": {
      "text/plain": [
       "array([0.42331288, 0.85503686, 0.62637363])"
      ]
     },
     "execution_count": 109,
     "metadata": {},
     "output_type": "execute_result"
    }
   ],
   "source": [
    "#undersampling\n",
    "precision_score(results_baseline[\"true\"], results_baseline[\"pred_without_gridsearch_undersampling\"], average=None,labels=[\"label_negative\",\"label_neutral\",\"label_positive\"])"
   ]
  },
  {
   "cell_type": "code",
   "execution_count": 110,
   "metadata": {},
   "outputs": [
    {
     "data": {
      "text/plain": [
       "array([0.71084337, 0.84644914, 0.75732218])"
      ]
     },
     "execution_count": 110,
     "metadata": {},
     "output_type": "execute_result"
    }
   ],
   "source": [
    "#oversampling\n",
    "precision_score(results_baseline[\"true\"], results_baseline[\"pred_without_gridsearch_smote\"], average=None,labels=[\"label_negative\",\"label_neutral\",\"label_positive\"])"
   ]
  },
  {
   "cell_type": "code",
   "execution_count": 112,
   "metadata": {},
   "outputs": [
    {
     "data": {
      "text/plain": [
       "array([0.79166667, 0.85178236, 0.78991597])"
      ]
     },
     "execution_count": 112,
     "metadata": {},
     "output_type": "execute_result"
    }
   ],
   "source": [
    "#with gridsearch\n",
    "precision_score(results_baseline[\"true\"], results_baseline[\"pred_gridsearch\"], average=None,labels=[\"label_negative\",\"label_neutral\",\"label_positive\"])"
   ]
  },
  {
   "cell_type": "code",
   "execution_count": 113,
   "metadata": {},
   "outputs": [
    {
     "data": {
      "text/plain": [
       "array([0.84615385, 0.93145161, 0.8515625 ])"
      ]
     },
     "execution_count": 113,
     "metadata": {},
     "output_type": "execute_result"
    }
   ],
   "source": [
    "#with BERT\n",
    "precision_score(results[\"true\"], results[\"pred_proba\"], average=None,labels=[\"label_negative\",\"label_neutral\",\"label_positive\"])"
   ]
  },
  {
   "cell_type": "markdown",
   "metadata": {},
   "source": [
    "### Recall"
   ]
  },
  {
   "cell_type": "code",
   "execution_count": 102,
   "metadata": {},
   "outputs": [
    {
     "data": {
      "text/plain": [
       "array([0.61538462, 0.88712871, 0.72064777])"
      ]
     },
     "execution_count": 102,
     "metadata": {},
     "output_type": "execute_result"
    }
   ],
   "source": [
    "#recall SVM without gridsearch\n",
    "recall_score(results_baseline[\"true\"], results_baseline[\"pred_without_gridsearch\"], average=None,labels=[\"label_negative\",\"label_neutral\",\"label_positive\"])"
   ]
  },
  {
   "cell_type": "code",
   "execution_count": 103,
   "metadata": {},
   "outputs": [
    {
     "data": {
      "text/plain": [
       "array([0.75824176, 0.68910891, 0.69230769])"
      ]
     },
     "execution_count": 103,
     "metadata": {},
     "output_type": "execute_result"
    }
   ],
   "source": [
    "#undersampling\n",
    "recall_score(results_baseline[\"true\"], results_baseline[\"pred_without_gridsearch_undersampling\"], average=None,labels=[\"label_negative\",\"label_neutral\",\"label_positive\"])"
   ]
  },
  {
   "cell_type": "code",
   "execution_count": 104,
   "metadata": {},
   "outputs": [
    {
     "data": {
      "text/plain": [
       "array([0.64835165, 0.87326733, 0.73279352])"
      ]
     },
     "execution_count": 104,
     "metadata": {},
     "output_type": "execute_result"
    }
   ],
   "source": [
    "#oversampling\n",
    "recall_score(results_baseline[\"true\"], results_baseline[\"pred_without_gridsearch_smote\"], average=None,labels=[\"label_negative\",\"label_neutral\",\"label_positive\"])"
   ]
  },
  {
   "cell_type": "code",
   "execution_count": 114,
   "metadata": {},
   "outputs": [
    {
     "data": {
      "text/plain": [
       "array([0.62637363, 0.8990099 , 0.7611336 ])"
      ]
     },
     "execution_count": 114,
     "metadata": {},
     "output_type": "execute_result"
    }
   ],
   "source": [
    "#with gridsearch\n",
    "recall_score(results_baseline[\"true\"], results_baseline[\"pred_gridsearch\"], average=None,labels=[\"label_negative\",\"label_neutral\",\"label_positive\"])"
   ]
  },
  {
   "cell_type": "code",
   "execution_count": 115,
   "metadata": {},
   "outputs": [
    {
     "data": {
      "text/plain": [
       "array([0.84615385, 0.91485149, 0.88259109])"
      ]
     },
     "execution_count": 115,
     "metadata": {},
     "output_type": "execute_result"
    }
   ],
   "source": [
    "#with BERT\n",
    "recall_score(results[\"true\"], results[\"pred_proba\"], average=None,labels=[\"label_negative\",\"label_neutral\",\"label_positive\"])"
   ]
  }
 ],
 "metadata": {
  "kernelspec": {
   "display_name": "Python 3",
   "language": "python",
   "name": "python3"
  },
  "language_info": {
   "codemirror_mode": {
    "name": "ipython",
    "version": 3
   },
   "file_extension": ".py",
   "mimetype": "text/x-python",
   "name": "python",
   "nbconvert_exporter": "python",
   "pygments_lexer": "ipython3",
   "version": "3.7.0"
  }
 },
 "nbformat": 4,
 "nbformat_minor": 2
}
